{
 "cells": [
  {
   "cell_type": "markdown",
   "metadata": {},
   "source": [
    "# Tutorial de TensorFlow \n",
    "\n",
    "José Ahirton Batista Lopes Filho - TIA 71760253\n",
    "\n",
    "A tarefa desta semana no notebook irá apresentar uma transição. Até o momento utilizamos a biblioteca numpy para construir as redes neurais. Neste notebook iremos começar a trabalhar com um framework desenvolvido para aprendizado profundo e que permitirá construir redes neurais mais facilmente. Frameworks de aprendizado de máquina como o TensorFlow, PaddlePaddle, Torch, Caffe, Keras, e muitos outros podem acelerar o processo de aprendizado. Todos estes frameworks possuem um conjunto de documentos que você pode consultar on-line. Nesta atividade você irá aprender alguns processos de aprendizado de máquina utilizando TensorFlow: \n",
    "\n",
    "- Inicializar variáveis\n",
    "- Começar uma sessão\n",
    "- Treinar algoritmos \n",
    "- Implementar uma rede neural\n",
    "\n",
    "Programar com frameworks pode, além de reduzir o tempo de codificação, aplicar otimizações que irão acelerar a execução. \n",
    "\n",
    "## 1 - Explorar a biblioteca Tensorflow \n",
    "\n",
    "Como sempre, para começar, vamos carregar as bibliotecas necessárias.\n",
    "\n",
    "**Nota:**\n",
    "É preciso instalar a biblioteca TensorFlow no Jupyter Notebook para executar esta atividade. O processo é simples, verifique na internet como fazer este procedimento.\n"
   ]
  },
  {
   "cell_type": "code",
   "execution_count": 5,
   "metadata": {},
   "outputs": [],
   "source": [
    "import math\n",
    "import numpy as np\n",
    "import h5py\n",
    "import matplotlib.pyplot as plt\n",
    "import tensorflow as tf\n",
    "from tensorflow.python.framework import ops\n",
    "from tf_utils import load_dataset, random_mini_batches, convert_to_one_hot, predict\n",
    "\n",
    "%matplotlib inline\n",
    "np.random.seed(1)"
   ]
  },
  {
   "cell_type": "markdown",
   "metadata": {},
   "source": [
    "Agora que já importamos as bibliotecas necessárias, vamos direcionar as etapas para verificar como realizar certas aplicações com o TensorFlow. Vamos começar com um exemplo onde iremos determinar o valor do custo:  \n",
    "$$custo = \\mathcal{L}(\\hat{y}, y) = (\\hat y^{(i)} - y^{(i)})^2 \\tag{1}$$"
   ]
  },
  {
   "cell_type": "code",
   "execution_count": 6,
   "metadata": {},
   "outputs": [
    {
     "name": "stdout",
     "output_type": "stream",
     "text": [
      "9\n"
     ]
    }
   ],
   "source": [
    "y_hat = tf.constant(36, name='y_hat')            # Define a constante y_hat com o valor 36.\n",
    "y = tf.constant(39, name='y')                    # Define a constante y com o valor 39\n",
    "\n",
    "custo = tf.Variable((y - y_hat)**2, name='custo')  # Cria uma variável para o custo.\n",
    "\n",
    "init = tf.global_variables_initializer()         # Quando init for executado em seguida (session.run(init)),\n",
    "                                                 # a variável custo será inicializada e pronta para ser determinada.\n",
    "with tf.Session() as session:                    # Cria uma sessão e imprime a saída\n",
    "    session.run(init)                            # Inicializa as variáveis\n",
    "    print(session.run(custo))                    # Imprime o valor do custo"
   ]
  },
  {
   "cell_type": "markdown",
   "metadata": {},
   "source": [
    "Escrevendo e executando programas em TensorFlow tem as seguintes etapas:\n",
    "\n",
    "1. Criar Tensores (variáveis) que ainda não foram executadas/computadas. \n",
    "2. Escrever operadores entre estes Tensores.\n",
    "3. Inicializar os Tensores. \n",
    "4. Criar uma sessão. \n",
    "5. Executar a sessão. Isto irá executar as operações definidas acima. \n",
    "\n",
    "Portanto, quando criamos uma variável para o custo, simplesmente definimos o custo como uma função das outras variáveis definidas, mas não determinamos o seu valor. Para calcular o seu valor é preciso executar `init=tf.global_variables_initializer()`. Que irá inicializar a variável 'custo' e imprimir o seu valor.\n",
    "\n",
    "Vamos agora olhar o exemplo abaixo e entender o que está sendo feito. Execute a célula abaixo:"
   ]
  },
  {
   "cell_type": "code",
   "execution_count": 7,
   "metadata": {},
   "outputs": [
    {
     "name": "stdout",
     "output_type": "stream",
     "text": [
      "Tensor(\"Mul:0\", shape=(), dtype=int32)\n"
     ]
    }
   ],
   "source": [
    "a = tf.constant(2)\n",
    "b = tf.constant(10)\n",
    "c = tf.multiply(a,b)\n",
    "print(c)"
   ]
  },
  {
   "cell_type": "markdown",
   "metadata": {},
   "source": [
    "Como esperado, o resultado não foi 20! Saiu como resposta um tensor dizendo que o resultado é um tensor que não possui o atributo 'shape' e é do tipo \"int32\". Tudo que você fez foi colocar num 'grafo de computação', mas esta computação ainda não foi determinada. Para executar este cálculo é preciso criar uma sessão e executá-la. "
   ]
  },
  {
   "cell_type": "code",
   "execution_count": 8,
   "metadata": {},
   "outputs": [
    {
     "name": "stdout",
     "output_type": "stream",
     "text": [
      "20\n"
     ]
    }
   ],
   "source": [
    "sess = tf.Session()\n",
    "print(sess.run(c))"
   ]
  },
  {
   "cell_type": "markdown",
   "metadata": {},
   "source": [
    "Ótimo! Resumindo, **lembre-se de inicializar as variáveis, criar uma sessão e executar a sessão para que os cálculos dentro da sessão sejam executados**. \n",
    "\n",
    "Em seguida, você deve entender sobre 'placeholders'. Um 'placeholder' é um objeto cujo valor você pode especificar depois. Para especificar o valor de 'placeholder' você pode passar valores utilizando um 'feed dictionary' (variável `feed_dict`). Na célula, cria-se um 'placeholer' para x. Isto permite que se passe um valor para x mais tarde, como um argumento quando executamos a sessão. "
   ]
  },
  {
   "cell_type": "code",
   "execution_count": 9,
   "metadata": {},
   "outputs": [
    {
     "name": "stdout",
     "output_type": "stream",
     "text": [
      "6\n"
     ]
    }
   ],
   "source": [
    "# Define o valor de x usando o feed_dict\n",
    "\n",
    "x = tf.placeholder(tf.int64, name = 'x')\n",
    "print(sess.run(2 * x, feed_dict = {x: 3}))\n",
    "sess.close()"
   ]
  },
  {
   "cell_type": "markdown",
   "metadata": {},
   "source": [
    "Quando `x` foi definido não era necessário especificar um valor para a variável. Um 'placeholder' é simplesmente uma variável que irá ser definida mais tarde, quando executar a sessão. Neste caso dizemos que você **passa o argumento** para estes placeholders quando a sessão é executada.  \n",
    "\n",
    "Entenda o que acontece: quando você especifica uma determinada operação, você diz ao TensorFlow como ele deve construir um grafo de computação. O garfo de computação pode ter alguns placeholders cujos valores serão passados como argumentos na execução. Quando você executa uma sessão você está dizendo para o TensorFlow avaliar o grafo de computação. "
   ]
  },
  {
   "cell_type": "markdown",
   "metadata": {},
   "source": [
    "### 1.1 - Função Linear\n",
    "\n",
    "Vamos iniciar este exercício de programação cmputando a seguinte equação: $Y = WX + b$, onde $W$ e $X$ são matrizes aleatórias e $b$ é um vetor aleatório. \n",
    "\n",
    "**Exercício**: Determine $WX + b$ onde $W, X$, e $b$ são valores aleatórios extraidos de uma distribuição normal. W está no formato (4, 3), X no formato (3,1) e b no formato (4,1). Como um exemplo, aqui está como você deveria definir uma constante X no formato (3,1):\n",
    "```python\n",
    "X = tf.constant(np.random.randn(3,1), name = \"X\")\n",
    "\n",
    "```\n",
    "As seguintes funções podem ser uteis: \n",
    "- tf.matmul(..., ...) faz a multiplicação de matrizes.\n",
    "- tf.add(..., ...) faz uma adição.\n",
    "- np.random.randn(...) faz uma inicialização aleatória.\n"
   ]
  },
  {
   "cell_type": "code",
   "execution_count": 10,
   "metadata": {
    "collapsed": true
   },
   "outputs": [],
   "source": [
    "# FUNÇÃO DE AVALIAÇÃO: linear_function\n",
    "\n",
    "def linear_function():\n",
    "    \"\"\"\n",
    "    Implementa uma função linear: \n",
    "            Inicializa W como um tensor aleatório no formato (4,3)\n",
    "            Inicializa X como um tensor aleatório no formato (3,1)\n",
    "            Inicializa b como um tensor aleatório no formato (4,1)\n",
    "            Determina o valor de Y = WX+b\n",
    "    Retorna: \n",
    "    result -- executa a sessão para Y = WX + b \n",
    "    \"\"\"\n",
    "    \n",
    "    np.random.seed(1)\n",
    "    \n",
    "    ### INICIE SEU CÓDIGO AQUI ### (4 linhas de código)\n",
    "    \n",
    "    X = np.random.randn(3, 1)\n",
    "    W = np.random.randn(4, 3)\n",
    "    b = np.random.randn(4, 1)\n",
    "    Y = tf.add(tf.matmul(W, X), b)\n",
    "    \n",
    "    ### TÉRMINO DO CÓDIGO ### \n",
    "    \n",
    "    # Crie uma sessão tf.Session() e execute usando sess.run(...) sobre a variável que você quer cálcular\n",
    "    \n",
    "    ### INICIE SEU CÓDIGO AQUI ### (2 linhas de código)\n",
    "    \n",
    "    sess = tf.Session()\n",
    "    result = sess.run(Y)\n",
    "    \n",
    "    ### TÉRMINO DO CÓDIGO ###  \n",
    "    \n",
    "    # encerra a sessão \n",
    "    sess.close()\n",
    "\n",
    "    return result"
   ]
  },
  {
   "cell_type": "code",
   "execution_count": 11,
   "metadata": {},
   "outputs": [
    {
     "name": "stdout",
     "output_type": "stream",
     "text": [
      "resultado = [[-2.15657382]\n",
      " [ 2.95891446]\n",
      " [-1.08926781]\n",
      " [-0.84538042]]\n"
     ]
    }
   ],
   "source": [
    "print( \"resultado = \" + str(linear_function()))"
   ]
  },
  {
   "cell_type": "markdown",
   "metadata": {},
   "source": [
    "*** Saída esperada ***: \n",
    "\n",
    "<table> \n",
    "<tr> \n",
    "<td>\n",
    "**resultado**\n",
    "</td>\n",
    "<td>\n",
    "[[-2.15657382]\n",
    " [ 2.95891446]\n",
    " [-1.08926781]\n",
    " [-0.84538042]]\n",
    "</td>\n",
    "</tr> \n",
    "\n",
    "</table> "
   ]
  },
  {
   "cell_type": "markdown",
   "metadata": {},
   "source": [
    "### 1.2 - Computando a função sigmoid \n",
    "Muito bem! Você acabou de implementar uma função linear. Tensorflow oferece uma variedade de funções comumente utilizadas em uma rede neural como `tf.sigmoid` e `tf.softmax`. Para este exercício vamos computar a função sigmoid de uma entrada. \n",
    "\n",
    "Você irá fazer este exercício usando uma variável do tipo placeholder chamada `x`. Quando executar uma sessão você deve o feed dictionary para passar o valor de `z`. Neste exercício você deve: (i) criar um placeholder `x`, (ii) definir as operações necessárias para computar a função sigmoid usando `tf.sigmoid`, e então (iii) executar a sessão. \n",
    "\n",
    "** Exercício **: Implemente a função sigmoid abaixo. Você deve usar o seguinte: \n",
    "\n",
    "- `tf.placeholder(tf.float32, name = \"...\")`\n",
    "- `tf.sigmoid(...)`\n",
    "- `sess.run(..., feed_dict = {x: z})`\n",
    "\n",
    "\n",
    "Note que existem duas formas de se criar e usar sessões em tensorflow: \n",
    "\n",
    "**Método 1:**\n",
    "```python\n",
    "sess = tf.Session()\n",
    "# Execute a inicialização das variáveis (se necessário), execute as operações\n",
    "result = sess.run(..., feed_dict = {...})\n",
    "sess.close() # Feche a sessão\n",
    "```\n",
    "**Método 2:**\n",
    "```python\n",
    "with tf.Session() as sess: \n",
    "    # Execute a inicialização das variáveis (se necessário), execute as operações\n",
    "    result = sess.run(..., feed_dict = {...})\n",
    "    # Isto cuida de fechar a sessão para você :)\n",
    "```\n"
   ]
  },
  {
   "cell_type": "code",
   "execution_count": 12,
   "metadata": {
    "collapsed": true
   },
   "outputs": [],
   "source": [
    "# FUNÇÃO DE AVALIAÇÃO: sigmoid\n",
    "\n",
    "def sigmoid(z):\n",
    "    \"\"\"\n",
    "    Computa o sigmoid de z\n",
    "    \n",
    "    Argumentos:\n",
    "    z -- valor de entrada, um vetor escalar\n",
    "    \n",
    "    Retorna: \n",
    "    results -- o valor sigmoid de z\n",
    "    \"\"\"\n",
    "    \n",
    "    ### INICIE O SEU CÓDIGO AQUI ### (4 linhas de código)\n",
    "    # Crie um placeholder para x. De a ele o nome 'x'.\n",
    "    \n",
    "    x = tf.placeholder(tf.float32, name=\"x\")\n",
    "\n",
    "    # compute o sigmoid(x)\n",
    "    \n",
    "    sigmoid = tf.sigmoid(x)\n",
    "\n",
    "    # Crie uma sessão e execute a sessão. Por favor utilize o método 2 explicado acima. \n",
    "    # Você deve usar a feed_dict para passar z como valor de x. \n",
    "    with tf.Session() as sess: \n",
    "        # Execute a sessão e chame a saida \"result\"\n",
    "        result = result = sess.run(sigmoid, feed_dict = {x: z})\n",
    "    \n",
    "    ### TERMINE O CÓDIGO AQUI ###\n",
    "    \n",
    "    return result"
   ]
  },
  {
   "cell_type": "code",
   "execution_count": 13,
   "metadata": {},
   "outputs": [
    {
     "name": "stdout",
     "output_type": "stream",
     "text": [
      "sigmoid(0) = 0.5\n",
      "sigmoid(12) = 0.9999938\n"
     ]
    }
   ],
   "source": [
    "print (\"sigmoid(0) = \" + str(sigmoid(0)))\n",
    "print (\"sigmoid(12) = \" + str(sigmoid(12)))"
   ]
  },
  {
   "cell_type": "markdown",
   "metadata": {},
   "source": [
    "*** Saída esperada ***: \n",
    "\n",
    "<table> \n",
    "<tr> \n",
    "<td>\n",
    "**sigmoid(0)**\n",
    "</td>\n",
    "<td>\n",
    "0.5\n",
    "</td>\n",
    "</tr>\n",
    "<tr> \n",
    "<td>\n",
    "**sigmoid(12)**\n",
    "</td>\n",
    "<td>\n",
    "0.999994\n",
    "</td>\n",
    "</tr> \n",
    "\n",
    "</table> "
   ]
  },
  {
   "cell_type": "markdown",
   "metadata": {},
   "source": [
    "<font color='blue'>\n",
    "**Resumindo, você agora sabe como**:\n",
    "1. Criar placeholders\n",
    "2. Especificar o grafo de computação correspondenteas operações você deseja computar\n",
    "3. Criar uma sessão\n",
    "4. Execute a sessão, utilize o feed dictionary se necessário para especificar os valores das variáveis do placeholder.  "
   ]
  },
  {
   "cell_type": "markdown",
   "metadata": {},
   "source": [
    "### 1.3 -  Computando o Custo\n",
    "\n",
    "Você também irá utilizar uma função já construída para computar o custo de uma rede neural. Portanto, no lugar de escrever o código para computar esta função $a^{[2](i)}$ e $y^{(i)}$ for i=1...m: \n",
    "$$ J = - \\frac{1}{m}  \\sum_{i = 1}^m  \\large ( \\small y^{(i)} \\log a^{ [2] (i)} + (1-y^{(i)})\\log (1-a^{ [2] (i)} )\\large )\\small\\tag{2}$$\n",
    "\n",
    "você pode fazer isto usando uma linha em tensorflow!\n",
    "\n",
    "**Exercício**: Implemente a função de entropia cruzada. A função para isto é: \n",
    "\n",
    "\n",
    "- `tf.nn.sigmoid_cross_entropy_with_logits(logits = ...,  labels = ...)`\n",
    "\n",
    "Seu código deve recebr como entrada `z`, computar o sigmoid (para obter `a`) e então computar o custo usando entropia cruzada $J$. Tudo isto pode ser feito com uma única chamada para `tf.nn.sigmoid_cross_entropy_with_logits`, que computa:\n",
    "\n",
    "$$- \\frac{1}{m}  \\sum_{i = 1}^m  \\large ( \\small y^{(i)} \\log \\sigma(z^{[2](i)}) + (1-y^{(i)})\\log (1-\\sigma(z^{[2](i)})\\large )\\small\\tag{2}$$\n",
    "\n"
   ]
  },
  {
   "cell_type": "code",
   "execution_count": 14,
   "metadata": {
    "collapsed": true
   },
   "outputs": [],
   "source": [
    "# FUNÇÃO DE AVALIAÇÃO: cost\n",
    "\n",
    "def cost(logits, labels):\n",
    "    \"\"\"\n",
    "    Computa o custo utilizando a sigmoid e entropia cruzada\n",
    "    \n",
    "    Argumentos:\n",
    "    logits -- vetor contendo z, a saída da última camada da função linear (antes da ativação da sigmoid)\n",
    "    labels -- vetor de saído com os valores corretos de cada exemplo y (1 ou 0) \n",
    "    \n",
    "    Note: o que você vem chamando de \"z\" e \"y\" neste caso são chamados respectivamente de \"logits\" e \"labels\" \n",
    "    na documentação do TensorFlow. Portanto logits será passado como z, e labels como y. \n",
    "    \n",
    "    Retorna:\n",
    "    cost -- executa a sessão de custo (fórmula (2))\n",
    "    \"\"\"\n",
    "    \n",
    "    ### INICIE O SEU CÓDIGO AQUI ### \n",
    "    \n",
    "    # Crie os placeholders para \"logits\" (z) e \"labels\" (y) (aprox. 2 linhas)\n",
    "    \n",
    "    z = tf.placeholder(tf.float32, name=\"z\")\n",
    "    y = tf.placeholder(tf.float32, name=\"y\")\n",
    "    \n",
    "    # Use a função de custo (aprox. 1 linha)\n",
    "    \n",
    "    cost = tf.nn.sigmoid_cross_entropy_with_logits(logits=z, labels=y)\n",
    "    \n",
    "    # Crie uma sessão (aprox. 1 linha). Veja método 1 acima.\n",
    "    \n",
    "    sess = tf.Session()\n",
    "    \n",
    "    # Execute a sessão (aprox. 1 linha).\n",
    "    \n",
    "    cost = sess.run(cost, feed_dict={z: logits, y: labels})\n",
    "    \n",
    "    # Encerre a sessão (aprox. 1 linha). Veja método 1 acima.\n",
    "    \n",
    "    sess.close()\n",
    "    \n",
    "    ### TÉRMINO DO CÓDIGO ###\n",
    "    \n",
    "    return cost"
   ]
  },
  {
   "cell_type": "code",
   "execution_count": 15,
   "metadata": {},
   "outputs": [
    {
     "name": "stdout",
     "output_type": "stream",
     "text": [
      "custo = [1.0053872  1.0366409  0.41385433 0.39956614]\n"
     ]
    }
   ],
   "source": [
    "logits = sigmoid(np.array([0.2,0.4,0.7,0.9]))\n",
    "cost = cost(logits, np.array([0,0,1,1]))\n",
    "print (\"custo = \" + str(cost))"
   ]
  },
  {
   "cell_type": "markdown",
   "metadata": {},
   "source": [
    "** Saída esperada** : \n",
    "\n",
    "<table> \n",
    "    <tr> \n",
    "        <td>\n",
    "            **custo**\n",
    "        </td>\n",
    "        <td>\n",
    "        [ 1.00538719  1.03664088  0.41385433  0.39956614]\n",
    "        </td>\n",
    "    </tr>\n",
    "\n",
    "</table>"
   ]
  },
  {
   "cell_type": "markdown",
   "metadata": {},
   "source": [
    "### 1.4 - Usando codificação One Hot \n",
    "\n",
    "Muitas vezes em aprendizado profundo você terá um vetor y com números que variam entre 0 e C-1, onde C é o número de classes. Se C for, por exemplo, 4, então você terá um vetor y que deve ser convertido da seguinte forma: \n",
    "\n",
    "\n",
    "<img src=\"images/onehot.png\" style=\"width:600px;height:150px;\">\n",
    "\n",
    "Isto é chamado de codificação \"one hot\", porque na representação invertida exatamente um elemento de cada coluna é \"hot\" (isto é, possui o valor 1). Para fazer esta conversão em numpy, você precisa escrever algumas linhas de código, em TensorFlow isto é feito em uma linha de código:  \n",
    "\n",
    "- tf.one_hot(labels, depth, axis) \n",
    "\n",
    "**Exercício:** Implemente a função abaixo que recebe um vetor de valores de classe corretos e o número total de classes $C$, e retornaa codificação \"hot\". Uilize `tf.one_hot()` para fazer isto. "
   ]
  },
  {
   "cell_type": "code",
   "execution_count": 16,
   "metadata": {
    "collapsed": true
   },
   "outputs": [],
   "source": [
    "# FUNÇÃO DE AVALIAÇÃO: one_hot_matrix\n",
    "\n",
    "def one_hot_matrix(labels, C):\n",
    "    \"\"\"\n",
    "    Cria uma matriz onde a i-ésima linha corresponde a i-ésima classe e a j-ésima coluna corresponde ao j-ésimo exemplo de \n",
    "                     treinamento jth column. Logo, se o exemplo j possui valor i então a entrada (i,j) terá valor 1. \n",
    "                     \n",
    "    Argumentos:\n",
    "    labels -- vetor contendo os valores corretos de saída \n",
    "    C -- número de classes, a profundidade da dimensão 'hot'\n",
    "    \n",
    "    Retorna: \n",
    "    one_hot -- umamatriz do tipo \"one hot\"\n",
    "    \"\"\"\n",
    "    \n",
    "    ### INICIE O SEU CÓDIGO AQUI ###\n",
    "    \n",
    "    # Crie uma tf.constant igual a C (profundidade), com o nome 'C'. (aprox. 1 linha)\n",
    "    \n",
    "    C = tf.constant(C, name='C')\n",
    "    \n",
    "    # Use tf.one_hot, cuidado com os eixos (aprox. 1 linha)\n",
    "    \n",
    "    one_hot_matrix = tf.one_hot(indices=labels, depth=C, axis=0)\n",
    "    \n",
    "    # Crie uma sessão (aprox. 1 linha)\n",
    "    \n",
    "    sess = tf.Session()\n",
    "    \n",
    "    # Execute a sessão (aprox. 1 linha)\n",
    "    \n",
    "    one_hot = sess.run(one_hot_matrix)\n",
    "    \n",
    "    # Termine a sessão (aprox. 1 linha). Veja o método 1 acima.\n",
    "    \n",
    "    sess.close()\n",
    "    \n",
    "    ### TÉRMINO DO CÓDIGO ###\n",
    "    \n",
    "    return one_hot"
   ]
  },
  {
   "cell_type": "code",
   "execution_count": 17,
   "metadata": {},
   "outputs": [
    {
     "name": "stdout",
     "output_type": "stream",
     "text": [
      "one_hot = [[0. 0. 0. 1. 0. 0.]\n",
      " [1. 0. 0. 0. 0. 1.]\n",
      " [0. 1. 0. 0. 1. 0.]\n",
      " [0. 0. 1. 0. 0. 0.]]\n"
     ]
    }
   ],
   "source": [
    "labels = np.array([1,2,3,0,2,1])\n",
    "one_hot = one_hot_matrix(labels, C = 4)\n",
    "print (\"one_hot = \" + str(one_hot))"
   ]
  },
  {
   "cell_type": "markdown",
   "metadata": {},
   "source": [
    "**Saída esperada**: \n",
    "\n",
    "<table> \n",
    "    <tr> \n",
    "        <td>\n",
    "            **one_hot**\n",
    "        </td>\n",
    "        <td>\n",
    "        [[ 0.  0.  0.  1.  0.  0.]\n",
    " [ 1.  0.  0.  0.  0.  1.]\n",
    " [ 0.  1.  0.  0.  1.  0.]\n",
    " [ 0.  0.  1.  0.  0.  0.]]\n",
    "        </td>\n",
    "    </tr>\n",
    "\n",
    "</table>\n"
   ]
  },
  {
   "cell_type": "markdown",
   "metadata": {},
   "source": [
    "### 1.5 - Inicialize com zeros e uns\n",
    "\n",
    "Agora iremos ver como inicializar um vetor de zeros e uns. A função que você ira chamar é `tf.ones()`. Para inicializar com zeros voce pode utilizar tf.zeros(). Estas funções tem como entrada o formato e retorna um array na dimensão passada cheia de zeros ou uns.  \n",
    "\n",
    "**Exercício:** Implemente a função abaixo que tem como entrada um formato e retorna um array (no formato da dimensão passada). \n",
    "\n",
    " - tf.ones(shape)\n"
   ]
  },
  {
   "cell_type": "code",
   "execution_count": 18,
   "metadata": {
    "collapsed": true
   },
   "outputs": [],
   "source": [
    "# FUNÇÃO DE AVALIAÇÃO: ones\n",
    "\n",
    "def ones(shape):\n",
    "    \"\"\"\n",
    "    Cria um array de uns no formato dado por shape\n",
    "    \n",
    "    Argumentos:\n",
    "    shape -- formato do array que você quer criar\n",
    "        \n",
    "    Retorna: \n",
    "    ones -- array contendo apenas uns\n",
    "    \"\"\"\n",
    "    \n",
    "    ### INICIE O SEU CÓDIGO AQUI ###\n",
    "    \n",
    "    # Cria um tensor de uns usando tf.ones(...). (aprox. 1 linha)\n",
    "    \n",
    "    ones = tf.ones(shape)\n",
    "    \n",
    "    # Crie uma sessão (aprox. 1 linha)\n",
    "    \n",
    "    sess = tf.Session()\n",
    "    \n",
    "    # Execute a sessão para definir o array de uns (aprox. 1 linha)\n",
    "    \n",
    "    ones = sess.run(ones)\n",
    "    \n",
    "    # Termina a sessão (aprox. 1 linha). Veja o método 1 acima.\n",
    "    \n",
    "    sess.close()\n",
    "    \n",
    "    ### TÉRMINO DO CÓDIGO ###\n",
    "    return ones"
   ]
  },
  {
   "cell_type": "code",
   "execution_count": 19,
   "metadata": {},
   "outputs": [
    {
     "name": "stdout",
     "output_type": "stream",
     "text": [
      "uns = [1. 1. 1.]\n"
     ]
    }
   ],
   "source": [
    "print (\"uns = \" + str(ones([3])))"
   ]
  },
  {
   "cell_type": "markdown",
   "metadata": {},
   "source": [
    "**Saída esperada:**\n",
    "\n",
    "<table> \n",
    "    <tr> \n",
    "        <td>\n",
    "            **uns**\n",
    "        </td>\n",
    "        <td>\n",
    "        [ 1.  1.  1.]\n",
    "        </td>\n",
    "    </tr>\n",
    "\n",
    "</table>"
   ]
  },
  {
   "cell_type": "markdown",
   "metadata": {},
   "source": [
    "# 2 - Construindo uma rede neural usando tensorflow\n",
    "\n",
    "Nesta parte do notebook você irá construir uma rede neural utilizando o tensorflow. Lembre-se que o processo de uso de tensorflow requer duas etapas: \n",
    "\n",
    "- Criar o grafo de computação\n",
    "- Executar o grafo\n",
    "\n",
    "Vamos estudar o problema que queremos resolver!\n",
    "\n",
    "### 2.0 - Definição do Problema: conjunto de dados SIGNS\n",
    "\n",
    "Uma tarde, com alguns amigos vocês decidiram ensinar o seu computador a reconhecer a linguagem de sinais. No início vocês tiraram fotos, em frente a uma parede branca e criaram uma base de dados. Agora você deverá criar o algoritmo principal para uma interface que facilite a comunicação de uma pessoa com deficiência de fala e uma pessoa que não compreenda a linguagem de sinais. \n",
    "\n",
    "- **Conjunto de Treinamento**: 1080 imagens (64 por 64 pixels) de sinais representando números de 0 a 5 (180 imagens por número).\n",
    "- **Conjunto de teste**: 120 imagens (64 por 64 pixels) de sinais representando números de 0 a 5 (20 imagens por número).\n",
    "\n",
    "Note que este é um subcojunto da base de dados SIGNS. O conjunto completo contém muito mais sinais.\n",
    "\n",
    "Aqui estão alguns exemplos para cada um dos números, e uma explicação de como representar os rótulos de saída. Estas são imagens originais, antes de diminuir a resolução das imagens para 64 por 64 pixels. \n",
    "<img src=\"images/hands.png\" style=\"width:800px;height:350px;\"><caption><center> <u><font color='purple'> **Figura 1**</u><font color='purple'>: base de dados SIGNS <br> <font color='black'> </center>\n",
    "\n",
    "Execute a célula abaixo para carregar a base de dados."
   ]
  },
  {
   "cell_type": "code",
   "execution_count": 20,
   "metadata": {
    "collapsed": true
   },
   "outputs": [],
   "source": [
    "# Carregando a base de dados\n",
    "X_train_orig, Y_train_orig, X_test_orig, Y_test_orig, classes = load_dataset()"
   ]
  },
  {
   "cell_type": "markdown",
   "metadata": {},
   "source": [
    "Modifique o índice abaixo e execute a célula para visualizar alguns exemplos da base de dados."
   ]
  },
  {
   "cell_type": "code",
   "execution_count": 21,
   "metadata": {},
   "outputs": [
    {
     "name": "stdout",
     "output_type": "stream",
     "text": [
      "y = 2\n"
     ]
    },
    {
     "data": {
      "image/png": "[encoded data removed]",
      "text/plain": [
       "<matplotlib.figure.Figure at 0x182293a2b0>"
      ]
     },
     "metadata": {},
     "output_type": "display_data"
    }
   ],
   "source": [
    "# Exemplo de uma imagem\n",
    "indice = 55\n",
    "plt.imshow(X_train_orig[indice])\n",
    "print (\"y = \" + str(np.squeeze(Y_train_orig[:, indice])))"
   ]
  },
  {
   "cell_type": "markdown",
   "metadata": {},
   "source": [
    "Como sempre iremos ajustar a base de dados transformando cada imagem em um vetor e normalizá-la dividindo os pixels por 255. Em seguida iremos converter cada saída em um vetor \"one-hot\" como mostrado na Figura 1. Execute a célula abaixo para fazer estas tarefas. "
   ]
  },
  {
   "cell_type": "code",
   "execution_count": 22,
   "metadata": {},
   "outputs": [
    {
     "name": "stdout",
     "output_type": "stream",
     "text": [
      "número de exemplos de treinamento = 1080\n",
      "número de exemplos de teste = 120\n",
      "Formato dos exemplos de treinamento: (12288, 1080)\n",
      "Formato dos rótulos de treinamento: (6, 1080)\n",
      "Formato dos exemplos de teste: (12288, 120)\n",
      "Formato dos rótulos de teste: (6, 120)\n"
     ]
    }
   ],
   "source": [
    "# convertendo a imagem em vetor\n",
    "X_train_flatten = X_train_orig.reshape(X_train_orig.shape[0], -1).T\n",
    "X_test_flatten = X_test_orig.reshape(X_test_orig.shape[0], -1).T\n",
    "# Normalizando as imagens\n",
    "X_train = X_train_flatten/255.\n",
    "X_test = X_test_flatten/255.\n",
    "# Converter os rótulos de treinamento e teste em uma matriz \"one-hot\"\n",
    "Y_train = convert_to_one_hot(Y_train_orig, 6)\n",
    "Y_test = convert_to_one_hot(Y_test_orig, 6)\n",
    "\n",
    "print (\"número de exemplos de treinamento = \" + str(X_train.shape[1]))\n",
    "print (\"número de exemplos de teste = \" + str(X_test.shape[1]))\n",
    "print (\"Formato dos exemplos de treinamento: \" + str(X_train.shape))\n",
    "print (\"Formato dos rótulos de treinamento: \" + str(Y_train.shape))\n",
    "print (\"Formato dos exemplos de teste: \" + str(X_test.shape))\n",
    "print (\"Formato dos rótulos de teste: \" + str(Y_test.shape))"
   ]
  },
  {
   "cell_type": "markdown",
   "metadata": {},
   "source": [
    "**Nota** o 12288 vem de $64 \\times 64 \\times 3$. Cada imagem é um quadrado, 64 por 64 pixels, e 3 canais (RGB). Por favor, tenha certeza que os formatos fazem sentido antes de continuar."
   ]
  },
  {
   "cell_type": "markdown",
   "metadata": {},
   "source": [
    "**Seu objetivo** é construir um algoritmo capaz de reconhecer um sinal com alta precisão. Para fazer isto você irá construir um modelo usando o tensorflow que é parecido com com o modelo que você já construiu usando numpy para reconhecimento de gatos (mas agora usando uma saída softmax). É interessante fazer uma comparação entre o modelo do tensrflow e o modelo previamente implementado.   \n",
    "\n",
    "**O modelo** será utilizado *LINEAR -> RELU -> LINEAR -> RELU -> LINEAR -> SOFTMAX*. A camada de saída com SIGMOID será convertida para uma saída SOFTMAX. A camada SOFTMAX generaliza a SIGMOID para o caso de se ter mais de uma classe na saída. "
   ]
  },
  {
   "cell_type": "markdown",
   "metadata": {},
   "source": [
    "### 2.1 - Criando \"placeholders\"\n",
    "\n",
    "A primeira tarefa é criar argumentos (placeholders) para `X` e `Y`. Isto permitirá que se passem os dados de treinamento na execução da sessão. \n",
    "\n",
    "**Exercício:** Implemente a função abaixo para criar os placeholders no tensorflow."
   ]
  },
  {
   "cell_type": "code",
   "execution_count": 23,
   "metadata": {
    "collapsed": true
   },
   "outputs": [],
   "source": [
    "# FUNÇÃO DE AVALIAÇÃO: create_placeholders\n",
    "\n",
    "def create_placeholders(n_x, n_y):\n",
    "    \"\"\"\n",
    "    Cria os argumentos (placeholders) para a sessão do tensorflow.\n",
    "    \n",
    "    Argumentos:\n",
    "    n_x -- escalar, tamanho de uma imagem como vetor (num_px * num_px = 64 * 64 * 3 = 12288)\n",
    "    n_y -- escalar, número de classes (de 0 a 5, portanto -> 6)\n",
    "    \n",
    "    Retorna:\n",
    "    X -- placeholder para os dados de entrada, no formato [n_x, None] e dtype \"float\"\n",
    "    Y -- placeholder para os rótulos de entrada, no formato [n_y, None] e dtype \"float\"\n",
    "    \n",
    "    Dica:\n",
    "    - Você irá utilizar None porque isto nos dá maior flexibilidade no número de exmplos.\n",
    "      De fato, o número de exemplos durante teste/treinamento é diferente.\n",
    "    \"\"\"\n",
    "\n",
    "    ### INICIE O CÓDIGO AQUI ### (aprox. 2 linhas)\n",
    "    \n",
    "    X = tf.placeholder(tf.float32, [n_x, None], name=\"X\")\n",
    "    Y = tf.placeholder(tf.float32, [n_y, None], name=\"Y\")\n",
    "    \n",
    "    ### TÉRMINO DO CÓDIGO ###\n",
    "    \n",
    "    return X, Y"
   ]
  },
  {
   "cell_type": "code",
   "execution_count": 24,
   "metadata": {},
   "outputs": [
    {
     "name": "stdout",
     "output_type": "stream",
     "text": [
      "X = Tensor(\"X_4:0\", shape=(12288, ?), dtype=float32)\n",
      "Y = Tensor(\"Y_2:0\", shape=(6, ?), dtype=float32)\n"
     ]
    }
   ],
   "source": [
    "X, Y = create_placeholders(12288, 6)\n",
    "print (\"X = \" + str(X))\n",
    "print (\"Y = \" + str(Y))"
   ]
  },
  {
   "cell_type": "markdown",
   "metadata": {},
   "source": [
    "**Saída esperada**: \n",
    "\n",
    "<table> \n",
    "    <tr> \n",
    "        <td>\n",
    "            **X**\n",
    "        </td>\n",
    "        <td>\n",
    "        Tensor(\"Placeholder_1:0\", shape=(12288, ?), dtype=float32) (não necessariamente Placeholder_1)\n",
    "        </td>\n",
    "    </tr>\n",
    "    <tr> \n",
    "        <td>\n",
    "            **Y**\n",
    "        </td>\n",
    "        <td>\n",
    "        Tensor(\"Placeholder_2:0\", shape=(10, ?), dtype=float32) (não necessariamente Placeholder_2)\n",
    "        </td>\n",
    "    </tr>\n",
    "\n",
    "</table>"
   ]
  },
  {
   "cell_type": "markdown",
   "metadata": {},
   "source": [
    "### 2.2 - Inicializando os parâmetros\n",
    "\n",
    "Sua segunda tarefa é inicializar os parâmetros no tensorflow.\n",
    "\n",
    "**Exercício:** Implemente a função abaixo para inicializar os parâmetros do tensorflow. Você irá utilizar a inicialização de Xavier para os pesos e inicializará com zeros os bias. Os formatos são dados abaixo. Como exemplo, para ajudá-lo, para W1 e b1 você pode utilizar:  \n",
    "\n",
    "```python\n",
    "W1 = tf.get_variable(\"W1\", [25,12288], initializer = tf.contrib.layers.xavier_initializer(seed = 1))\n",
    "b1 = tf.get_variable(\"b1\", [25,1], initializer = tf.zeros_initializer())\n",
    "```\n",
    "Utilize `seed = 1` para garantir que os resultados serão os mesmos."
   ]
  },
  {
   "cell_type": "code",
   "execution_count": 25,
   "metadata": {
    "collapsed": true
   },
   "outputs": [],
   "source": [
    "# FUNÇÃO DE AVALIAÇÃO: initialize_parameters\n",
    "\n",
    "def initialize_parameters():\n",
    "    \"\"\"\n",
    "    Inicializa parâmetros para construir uma rede neural com tensorflow. Os formatos são:\n",
    "                        W1 : [25, 12288]\n",
    "                        b1 : [25, 1]\n",
    "                        W2 : [12, 25]\n",
    "                        b2 : [12, 1]\n",
    "                        W3 : [6, 12]\n",
    "                        b3 : [6, 1]\n",
    "    \n",
    "    Retorna:\n",
    "    parameters -- um dicionário de tensores contendo W1, b1, W2, b2, W3, b3\n",
    "    \"\"\"\n",
    "    \n",
    "    tf.set_random_seed(1)                   # ajuste a semente com 1 para ajustar os resultados\n",
    "        \n",
    "    ### INICIE O SEU CÓDIGO AQUI ### (aprox. 6 linhas de código)\n",
    "    \n",
    "    W1 = tf.get_variable(\"W1\", [25, 12288], initializer = tf.contrib.layers.xavier_initializer(seed=1))\n",
    "    b1 = tf.get_variable(\"b1\", [25, 1], initializer = tf.zeros_initializer())\n",
    "    W2 = tf.get_variable(\"W2\", [12, 25], initializer = tf.contrib.layers.xavier_initializer(seed=1))\n",
    "    b2 = tf.get_variable(\"b2\", [12, 1], initializer = tf.zeros_initializer())\n",
    "    W3 = tf.get_variable(\"W3\", [6, 12], initializer = tf.contrib.layers.xavier_initializer(seed=1))\n",
    "    b3 = tf.get_variable(\"b3\", [6, 1], initializer = tf.zeros_initializer())\n",
    "    \n",
    "    ### TÉRMINO DO CÓDIGO ###\n",
    "\n",
    "    parameters = {\"W1\": W1,\n",
    "                  \"b1\": b1,\n",
    "                  \"W2\": W2,\n",
    "                  \"b2\": b2,\n",
    "                  \"W3\": W3,\n",
    "                  \"b3\": b3}\n",
    "    \n",
    "    return parameters"
   ]
  },
  {
   "cell_type": "code",
   "execution_count": 26,
   "metadata": {},
   "outputs": [
    {
     "name": "stdout",
     "output_type": "stream",
     "text": [
      "W1 = <tf.Variable 'W1:0' shape=(25, 12288) dtype=float32_ref>\n",
      "b1 = <tf.Variable 'b1:0' shape=(25, 1) dtype=float32_ref>\n",
      "W2 = <tf.Variable 'W2:0' shape=(12, 25) dtype=float32_ref>\n",
      "b2 = <tf.Variable 'b2:0' shape=(12, 1) dtype=float32_ref>\n"
     ]
    }
   ],
   "source": [
    "tf.reset_default_graph()\n",
    "with tf.Session() as sess:\n",
    "    parameters = initialize_parameters()\n",
    "    print(\"W1 = \" + str(parameters[\"W1\"]))\n",
    "    print(\"b1 = \" + str(parameters[\"b1\"]))\n",
    "    print(\"W2 = \" + str(parameters[\"W2\"]))\n",
    "    print(\"b2 = \" + str(parameters[\"b2\"]))"
   ]
  },
  {
   "cell_type": "markdown",
   "metadata": {},
   "source": [
    "**Saída esperada**: \n",
    "\n",
    "<table> \n",
    "    <tr> \n",
    "        <td>\n",
    "            **W1**\n",
    "        </td>\n",
    "        <td>\n",
    "         < tf.Variable 'W1:0' shape=(25, 12288) dtype=float32_ref >\n",
    "        </td>\n",
    "    </tr>\n",
    "    <tr> \n",
    "        <td>\n",
    "            **b1**\n",
    "        </td>\n",
    "        <td>\n",
    "        < tf.Variable 'b1:0' shape=(25, 1) dtype=float32_ref >\n",
    "        </td>\n",
    "    </tr>\n",
    "    <tr> \n",
    "        <td>\n",
    "            **W2**\n",
    "        </td>\n",
    "        <td>\n",
    "        < tf.Variable 'W2:0' shape=(12, 25) dtype=float32_ref >\n",
    "        </td>\n",
    "    </tr>\n",
    "    <tr> \n",
    "        <td>\n",
    "            **b2**\n",
    "        </td>\n",
    "        <td>\n",
    "        < tf.Variable 'b2:0' shape=(12, 1) dtype=float32_ref >\n",
    "        </td>\n",
    "    </tr>\n",
    "\n",
    "</table>"
   ]
  },
  {
   "cell_type": "markdown",
   "metadata": {},
   "source": [
    "Como esperado, os parâmetros ainda não foram avaliados. "
   ]
  },
  {
   "cell_type": "markdown",
   "metadata": {},
   "source": [
    "### 2.3 - Propagação para frente usando tensorflow \n",
    "\n",
    "Agora vamos implementar a propagação para frente utilizando o tensorflow. A função recebe um dicionário de parâmetros e irá executar o passo completo para frente. As funções que você irá utilizar são:  \n",
    "\n",
    "- `tf.add(...,...)` para fazer a adição.\n",
    "- `tf.matmul(...,...)` para fazer a multiplicação de matrizes.\n",
    "- `tf.nn.relu(...)` para aplicar a função de ativação ReLu.\n",
    "\n",
    "**Exercício:** Implemente o passo de propagação para frente em uma rede neural. Os equivalentes em numpy são comentados no código abaixo para que você entenda o processo. É importante notar que a propagação para frente para em `z3`. A razão é que no tensorflow a saída da última camada linear é dada como entrada para a função computando a perda. Logo, você não irá precisar do `a3`!\n",
    "\n"
   ]
  },
  {
   "cell_type": "code",
   "execution_count": 27,
   "metadata": {
    "collapsed": true
   },
   "outputs": [],
   "source": [
    "# FUNÇÃO DE AVALIAÇÃO: forward_propagation\n",
    "\n",
    "def forward_propagation(X, parameters):\n",
    "    \"\"\"\n",
    "    Implemente a propagação para frente para o modelo: LINEAR -> RELU -> LINEAR -> RELU -> LINEAR -> SOFTMAX\n",
    "    \n",
    "    Argumentos:\n",
    "    X -- argumento representando o conjunto de entrada no formato (tamanho da entrada, número de exemplos)\n",
    "    parameters -- dicinário python contendo os parâmetros \"W1\", \"b1\", \"W2\", \"b2\", \"W3\", \"b3\"\n",
    "                  os formatos são dados na função initialize_parameters\n",
    "\n",
    "    Retorna:\n",
    "    Z3 -- a saída da última camada linear\n",
    "    \"\"\"\n",
    "    \n",
    "    # Recupera os parâmetros do dicionário \"parameters\" \n",
    "    W1 = parameters['W1']\n",
    "    b1 = parameters['b1']\n",
    "    W2 = parameters['W2']\n",
    "    b2 = parameters['b2']\n",
    "    W3 = parameters['W3']\n",
    "    b3 = parameters['b3']\n",
    "    \n",
    "    ### INICIE O SEU CÓDIGO AQUI ### (aprox. 5 linhas)              # Equivalente em Numpy:\n",
    "    \n",
    "    Z1 = tf.add(tf.matmul(W1, X), b1)                               # Z1 = np.dot(W1, X) + b1\n",
    "    A1 = tf.nn.relu(Z1)                                             # A1 = relu(Z1)\n",
    "    Z2 = tf.add(tf.matmul(W2, A1), b2)                              # Z2 = np.dot(W2, a1) + b2\n",
    "    A2 = tf.nn.relu(Z2)                                             # A2 = relu(Z2)\n",
    "    Z3 = tf.add(tf.matmul(W3, A2), b3)                              # Z3 = np.dot(W3,Z2) + b3\n",
    "    \n",
    "    ### TÉRMINO DO CÓDIGO ###\n",
    "    \n",
    "    return Z3"
   ]
  },
  {
   "cell_type": "code",
   "execution_count": 28,
   "metadata": {
    "scrolled": true
   },
   "outputs": [
    {
     "name": "stdout",
     "output_type": "stream",
     "text": [
      "Z3 = Tensor(\"Add_2:0\", shape=(6, ?), dtype=float32)\n"
     ]
    }
   ],
   "source": [
    "tf.reset_default_graph()\n",
    "\n",
    "with tf.Session() as sess:\n",
    "    X, Y = create_placeholders(12288, 6)\n",
    "    parameters = initialize_parameters()\n",
    "    Z3 = forward_propagation(X, parameters)\n",
    "    print(\"Z3 = \" + str(Z3))"
   ]
  },
  {
   "cell_type": "markdown",
   "metadata": {},
   "source": [
    "**Saída esperada**: \n",
    "\n",
    "<table> \n",
    "    <tr> \n",
    "        <td>\n",
    "            **Z3**\n",
    "        </td>\n",
    "        <td>\n",
    "        Tensor(\"Add_2:0\", shape=(6, ?), dtype=float32)\n",
    "        </td>\n",
    "    </tr>\n",
    "\n",
    "</table>"
   ]
  },
  {
   "cell_type": "markdown",
   "metadata": {},
   "source": [
    "Você deve ter percebido que a propagação para frente não retorna cache algum. Você irá entender este processo mais abaixo, quando formos executar a propagação para trás. "
   ]
  },
  {
   "cell_type": "markdown",
   "metadata": {},
   "source": [
    "### 2.4 Determinação do custo\n",
    "\n",
    "Como visto antes, é muito fácil computar o custo usando:\n",
    "```python\n",
    "tf.reduce_mean(tf.nn.softmax_cross_entropy_with_logits(logits = ..., labels = ...))\n",
    "```\n",
    "**Exercício**: Implemente a função de custo abaixo. \n",
    "- É importante saber que as entradas \"`logits`\" e \"`labels`\" da função `tf.nn.softmax_cross_entropy_with_logits` são esperados no formato (número de exemplos, número de classes). Já fizemos a transposta de Z3 e Y para você.\n",
    "- A função `tf.reduce_mean` basicamente faz a soma sobre os exemplos."
   ]
  },
  {
   "cell_type": "code",
   "execution_count": 29,
   "metadata": {
    "collapsed": true
   },
   "outputs": [],
   "source": [
    "#FUNÇÃO DE AVALIAÇÃO : compute_cost \n",
    "\n",
    "def compute_cost(Z3, Y):\n",
    "    \"\"\"\n",
    "    Determina o custo.\n",
    "    \n",
    "    Argumentos:\n",
    "    Z3 -- saída da propagação para frente (saída da última camada LINEAR), no formato (6, número de exemplos)\n",
    "    Y -- vetor com os rótulos corretos, no mesmo formato de Z3.\n",
    "    \n",
    "    Retorna:\n",
    "    cost - Tensor da função de custo.\n",
    "    \"\"\"\n",
    "    \n",
    "    # ajusta logits e labels para a função tf.nn.softmax_cross_entropy_with_logits(...,...)\n",
    "    logits = tf.transpose(Z3)\n",
    "    labels = tf.transpose(Y)\n",
    "    \n",
    "    ### INICIE O SEU CÓDIGO AQUI### (1 linha de código)\n",
    "    \n",
    "    cost = tf.reduce_mean(tf.nn.softmax_cross_entropy_with_logits(logits=logits, labels=labels))\n",
    "    \n",
    "    ### TÉRMINO DO CÓDIGO ###\n",
    "    \n",
    "    return cost"
   ]
  },
  {
   "cell_type": "code",
   "execution_count": 30,
   "metadata": {},
   "outputs": [
    {
     "name": "stdout",
     "output_type": "stream",
     "text": [
      "WARNING:tensorflow:From <ipython-input-29-0fdb8bb8e5a4>:21: softmax_cross_entropy_with_logits (from tensorflow.python.ops.nn_ops) is deprecated and will be removed in a future version.\n",
      "Instructions for updating:\n",
      "\n",
      "Future major versions of TensorFlow will allow gradients to flow\n",
      "into the labels input on backprop by default.\n",
      "\n",
      "See @{tf.nn.softmax_cross_entropy_with_logits_v2}.\n",
      "\n",
      "custo = Tensor(\"Mean:0\", shape=(), dtype=float32)\n"
     ]
    }
   ],
   "source": [
    "tf.reset_default_graph()\n",
    "\n",
    "with tf.Session() as sess:\n",
    "    X, Y = create_placeholders(12288, 6)\n",
    "    parameters = initialize_parameters()\n",
    "    Z3 = forward_propagation(X, parameters)\n",
    "    cost = compute_cost(Z3, Y)\n",
    "    print(\"custo = \" + str(cost))"
   ]
  },
  {
   "cell_type": "markdown",
   "metadata": {},
   "source": [
    "**Saída esperada**: \n",
    "\n",
    "<table> \n",
    "    <tr> \n",
    "        <td>\n",
    "            **custo**\n",
    "        </td>\n",
    "        <td>\n",
    "        Tensor(\"Mean:0\", shape=(), dtype=float32)\n",
    "        </td>\n",
    "    </tr>\n",
    "\n",
    "</table>"
   ]
  },
  {
   "cell_type": "markdown",
   "metadata": {},
   "source": [
    "### 2.5 - Propagação para trás & atualização de parâmetros\n",
    "\n",
    "É aqui que você vai ficar fã dos frameworks de programação. Toda a propagação para trás e a atualização de parâmetros é feito em uma linha de código. É bem simples incorporar esta linha no modelo. \n",
    "\n",
    "Após determinar o custo, você irá criar um objeto do tipo \"`optimizer`\". Você deve chamar este objeto em conjunto com o custo quando executar a tf.session. Quando invocada, ela irá executar a otimização do custo com o método selecionado e a taxa de aprendizado escolhida.  \n",
    "\n",
    "Por exemplo, para o Gradiente Descendente o otimizador seria:\n",
    "```python\n",
    "optimizer = tf.train.GradientDescentOptimizer(learning_rate = learning_rate).minimize(cost)\n",
    "```\n",
    "\n",
    "Para construir o otimizador você deve utilizar:\n",
    "```python\n",
    "_ , c = sess.run([optimizer, cost], feed_dict={X: minibatch_X, Y: minibatch_Y})\n",
    "```\n",
    "\n",
    "Isto executa toda a propagação para trás passando pelo grafo de computação do tensorflow na ordem reversa, a partir dos custos computados.\n",
    "\n",
    "**Nota** Na codificação, frequentemente, estamos utilizando `_` como uma variável para armazenar valores que não iremos utilizar no processo. Aqui, `_` recebe os valores avaliados pelo `optimizer`, que não serão utilizados (e `c` recebe o valor da variável  `cost`). "
   ]
  },
  {
   "cell_type": "markdown",
   "metadata": {},
   "source": [
    "### 2.6 - Construindo o modelo\n",
    "\n",
    "Agora iremos por tudo junto! \n",
    "\n",
    "**Exercício:** Implemente o modelo. Você deve chamar as funções implementadas previamente."
   ]
  },
  {
   "cell_type": "code",
   "execution_count": 31,
   "metadata": {
    "collapsed": true
   },
   "outputs": [],
   "source": [
    "def model(X_train, Y_train, X_test, Y_test, learning_rate = 0.0001,\n",
    "          num_epochs = 1500, minibatch_size = 32, print_cost = True):\n",
    "    \"\"\"\n",
    "    Implementa uma rede neural com 3 camadas usando tensorflow: LINEAR->RELU->LINEAR->RELU->LINEAR->SOFTMAX.\n",
    "    \n",
    "    Argumentos:\n",
    "    X_train -- conjunto de treinamento, no formato (tamanho da entrada = 12288, número de exemplos de treinamento = 1080)\n",
    "    Y_train -- conjunto de rótulos de treinamento, no formato (tamanho da saída = 6, número de exemplos de treinamento = 1080)\n",
    "    X_test -- conjunto de teste, no formato (tamanho da entrada = 12288, número de exemplos de teste = 120)\n",
    "    Y_test -- conjunto de rótulos de teste, no formato (tamanho da saída = 6, número de exemplos de teste = 120)\n",
    "    learning_rate -- taxa de aprendizado da otimização\n",
    "    num_epochs -- número de épocas do loop de otimização\n",
    "    minibatch_size -- tamanho do mini-batch\n",
    "    print_cost -- Se VERDADE imprime o valor do custo a cada 100 épocas\n",
    "    \n",
    "    Retorna:\n",
    "    parameters -- parâmetros aprendidos pelo modelo. Eles podem ser utilizados para prever novas saídas.\n",
    "    \"\"\"\n",
    "    \n",
    "    ops.reset_default_graph()           # usado para poder executar o modelo diversas vezes sem sobrescrever as variáveis do tf.\n",
    "    tf.set_random_seed(1)               # usado para manter os resultados consistentes.\n",
    "    seed = 3                            # usado para manter os resultados consistentes.\n",
    "    (n_x, m) = X_train.shape            # (n_x: tamanho da entrada, m : número de exemplos do conjunto de treinamento)\n",
    "    n_y = Y_train.shape[0]              # n_y : tamanho da saída\n",
    "    costs = []                          # usado para armazenar os valores do custo\n",
    "    \n",
    "    # Crie os Placeholders no formato (n_x, n_y)\n",
    "    ### INICIE O SEU CÓDIGO AQUI ### (1 linha)\n",
    "    \n",
    "    X, Y = create_placeholders(n_x, n_y)\n",
    "    \n",
    "    ### TÉRMINO DO CÓDIGO ###\n",
    "\n",
    "    # Inicializa os parâmetros\n",
    "    ### INICIE O SEU CÓDIGO AQUI ### (1 linha)\n",
    "    \n",
    "    parameters = initialize_parameters()\n",
    "    \n",
    "    ### TÉRMINO DO CÓDIGO ###\n",
    "    \n",
    "    # Propagação para frente: Constroi a propagação para frente no grafo do tensorflow\n",
    "    ### INICIE O SEU CÓDIGO AQUI ### (1 linha)\n",
    "    \n",
    "    Z3 = forward_propagation(X, parameters)\n",
    "    \n",
    "    ### TÉRMINO DO CÓDIGO ###\n",
    "    \n",
    "    # Função de custo: Adiciona a função de custo ao grafo do tensorflow\n",
    "    ### INICIE O SEU CÓDIGO AQUI ### (1 linha)\n",
    "    \n",
    "    cost = compute_cost(Z3, Y)\n",
    "    \n",
    "    ### TÉRMINO DO CÓDIGO ###\n",
    "    \n",
    "    # Propagação para trás: Define o otimizador do tensorflow. Use o AdamOptimizer.\n",
    "    ### INICIE O SEU CÓDIGO AQUI ### (1 linha)\n",
    "    \n",
    "    optimizer = tf.train.AdamOptimizer(learning_rate=learning_rate).minimize(cost)\n",
    "    \n",
    "    ### TÉRMINO DO CÓDIGO ###\n",
    "    \n",
    "    # Inicialização de todas os variáveis\n",
    "    init = tf.global_variables_initializer()\n",
    "\n",
    "    # Inicializa a sessão para computar o grafo do tensorflow\n",
    "    with tf.Session() as sess:\n",
    "        \n",
    "        # Executa a inicialização\n",
    "        sess.run(init)\n",
    "        \n",
    "        # Executa o loop de treinamento\n",
    "        for epoch in range(num_epochs):\n",
    "\n",
    "            epoch_cost = 0.                           # Define o custo relacionado a uma época\n",
    "            num_minibatches = int(m / minibatch_size) # número de mini-batches do tamanho minibatch_size no conjunto de treinamento\n",
    "            seed = seed + 1\n",
    "            minibatches = random_mini_batches(X_train, Y_train, minibatch_size, seed)\n",
    "\n",
    "            for minibatch in minibatches:\n",
    "\n",
    "                # Seleciona o mini-batch\n",
    "                (minibatch_X, minibatch_Y) = minibatch\n",
    "                \n",
    "                # IMPORTANTE: A linha que executa o grafo em um mini-batch.\n",
    "                # Executa a sessão com o \"optimizer\" e o \"cost\", o feed_dict deve conter o mini-batch para (X,Y).\n",
    "                ### INICIE O SEU CÓDIGO AQUI ### (1 linha)\n",
    "                \n",
    "                _ , minibatch_cost = sess.run([optimizer, cost], feed_dict={X: minibatch_X, Y: minibatch_Y})\n",
    "\n",
    "    \n",
    "                ### TÉRMINO DO CÓDIGO ###\n",
    "                \n",
    "                epoch_cost += minibatch_cost / num_minibatches\n",
    "\n",
    "            # Imprime o custo para cada época\n",
    "            if print_cost == True and epoch % 100 == 0:\n",
    "                print (\"Custo após a época %i: %f\" % (epoch, epoch_cost))\n",
    "            if print_cost == True and epoch % 5 == 0:\n",
    "                costs.append(epoch_cost)\n",
    "                \n",
    "        # plota o custo\n",
    "        plt.plot(np.squeeze(costs))\n",
    "        plt.ylabel('custo')\n",
    "        plt.xlabel('interações (por dez)')\n",
    "        plt.title(\"Taxa de aprendizado =\" + str(learning_rate))\n",
    "        plt.show()\n",
    "\n",
    "        # Salva os parâmetros em uma variável\n",
    "        parameters = sess.run(parameters)\n",
    "        print (\"Parâmetros foram aprendidos!\")\n",
    "\n",
    "        # Calcula as predições\n",
    "        correct_prediction = tf.equal(tf.argmax(Z3), tf.argmax(Y))\n",
    "\n",
    "        # Calcula a precisão no conjunto de teste\n",
    "        accuracy = tf.reduce_mean(tf.cast(correct_prediction, \"float\"))\n",
    "\n",
    "        print (\"Precisão de treinamento:\", accuracy.eval({X: X_train, Y: Y_train}))\n",
    "        print (\"Precisão de teste:\", accuracy.eval({X: X_test, Y: Y_test}))\n",
    "        \n",
    "        return parameters"
   ]
  },
  {
   "cell_type": "markdown",
   "metadata": {
    "collapsed": true
   },
   "source": [
    "Execute a célula abaixo para treinar o seu modelo. O \"Custo após 100 épocas\" deve ser 1.016458. Se não conferir, não perca tempo; interrompa o treinamento clicando no quadrado (⬛) no menu superior do notebook, e verifique o seu código. Se o custo estiver correto deixe seguir o treinamento. O processo todo deve levar em torno de 5 minutos!"
   ]
  },
  {
   "cell_type": "code",
   "execution_count": 32,
   "metadata": {
    "scrolled": false
   },
   "outputs": [
    {
     "name": "stdout",
     "output_type": "stream",
     "text": [
      "Custo após a época 0: 1.855702\n",
      "Custo após a época 100: 1.016458\n",
      "Custo após a época 200: 0.733102\n",
      "Custo após a época 300: 0.572915\n",
      "Custo após a época 400: 0.468685\n",
      "Custo após a época 500: 0.381068\n",
      "Custo após a época 600: 0.313809\n",
      "Custo após a época 700: 0.254146\n",
      "Custo após a época 800: 0.203801\n",
      "Custo após a época 900: 0.166393\n",
      "Custo após a época 1000: 0.141141\n",
      "Custo após a época 1100: 0.107718\n",
      "Custo após a época 1200: 0.086261\n",
      "Custo após a época 1300: 0.060924\n",
      "Custo após a época 1400: 0.050927\n"
     ]
    },
    {
     "data": {
      "image/png": "[encoded data removed]",
      "text/plain": [
       "<matplotlib.figure.Figure at 0x1c363e5240>"
      ]
     },
     "metadata": {},
     "output_type": "display_data"
    },
    {
     "name": "stdout",
     "output_type": "stream",
     "text": [
      "Parâmetros foram aprendidos!\n",
      "Precisão de treinamento: 0.9990741\n",
      "Precisão de teste: 0.725\n"
     ]
    }
   ],
   "source": [
    "parameters = model(X_train, Y_train, X_test, Y_test)"
   ]
  },
  {
   "cell_type": "markdown",
   "metadata": {},
   "source": [
    "**Saída esperada**:\n",
    "\n",
    "<table> \n",
    "    <tr> \n",
    "        <td>\n",
    "            **Precisão no treinamento**\n",
    "        </td>\n",
    "        <td>\n",
    "        0.999074\n",
    "        </td>\n",
    "    </tr>\n",
    "    <tr> \n",
    "        <td>\n",
    "            **Precisão no teste**\n",
    "        </td>\n",
    "        <td>\n",
    "        0.716667\n",
    "        </td>\n",
    "    </tr>\n",
    "\n",
    "</table>\n",
    "\n",
    "Muito bem, seu algoritmo consegure reconhecer sinais em imagem representando valores de 0 a 5 com uma precisão de 71.7%.\n",
    "\n",
    "**Nota**:\n",
    "- Seu modelo parece grande o bastante para se ajustar ao conjunto de treinamento muito bem. Porém, dada a diferença entre a precisão no conjunto de treinamento e no conjunto de teste seria recomendado o uso de regularização (L2 ou dropout) para reduzir o superajuste. \n",
    "- Pense sobre a sessão como um bloco de código para treinamento do modelo. Cada vez que você executa uma sessão em um mini-batch ele treina os parâmetros. No total você executou uma sessão várias vezes (1500 épocas) até obter parâmetros bem treinados. "
   ]
  },
  {
   "cell_type": "markdown",
   "metadata": {},
   "source": [
    "### 2.7 - Teste com uma imagem sua (opcional)\n",
    "\n",
    "Muito bem, você terminou esta tarefa. Você pode testar o seu trabalho com uma imagem sua e ver a saída do seu modelo. Para isto faça:\n",
    "    1. Clique em \"File\" na barra superior deste notebook, e então clique em \"Open\" para ir no seu diretório.\n",
    "    2. Adicione a sua imagem ao diretório, na pasta \"imagens\".\n",
    "    3. Escreva no código abaixo o nome da sua imagem.\n",
    "    4. Execute a célula abaixo para ver o resultado do seu algoritmo!"
   ]
  },
  {
   "cell_type": "code",
   "execution_count": 37,
   "metadata": {
    "scrolled": true
   },
   "outputs": [
    {
     "name": "stderr",
     "output_type": "stream",
     "text": [
      "/Users/ahirtonlopes/anaconda3/lib/python3.6/site-packages/ipykernel_launcher.py:11: DeprecationWarning: `imread` is deprecated!\n",
      "`imread` is deprecated in SciPy 1.0.0.\n",
      "Use ``matplotlib.pyplot.imread`` instead.\n",
      "  # This is added back by InteractiveShellApp.init_path()\n",
      "/Users/ahirtonlopes/anaconda3/lib/python3.6/site-packages/ipykernel_launcher.py:12: DeprecationWarning: `imresize` is deprecated!\n",
      "`imresize` is deprecated in SciPy 1.0.0, and will be removed in 1.2.0.\n",
      "Use ``skimage.transform.resize`` instead.\n",
      "  if sys.path[0] == '':\n"
     ]
    },
    {
     "name": "stdout",
     "output_type": "stream",
     "text": [
      "O algoritmo dá como resposta: y = 2\n"
     ]
    },
    {
     "data": {
      "image/png": "[encoded data removed]",
      "text/plain": [
       "<matplotlib.figure.Figure at 0x104a08f98>"
      ]
     },
     "metadata": {},
     "output_type": "display_data"
    }
   ],
   "source": [
    "import scipy\n",
    "from PIL import Image\n",
    "from scipy import ndimage\n",
    "\n",
    "## INICIE O SEU CÓDIGO AQUI ## (coloque o nome da sua imagem) \n",
    "my_image = \"2fingers.jpg\"\n",
    "## TÉRMINO DO CÓDIGO ##\n",
    "\n",
    "# Faz o pré-processamento da sua imagem para uso pelo algoritmo.\n",
    "fname = \"./images/\" + my_image\n",
    "image = np.array(ndimage.imread(fname, flatten=False))\n",
    "my_image = scipy.misc.imresize(image, size=(64,64)).reshape((1, 64*64*3)).T\n",
    "my_image_prediction = predict(my_image, parameters)\n",
    "\n",
    "plt.imshow(image)\n",
    "print(\"O algoritmo dá como resposta: y = \" + str(np.squeeze(my_image_prediction)))"
   ]
  },
  {
   "cell_type": "markdown",
   "metadata": {
    "collapsed": true
   },
   "source": [
    "<font color='blue'>\n",
    "**O que você deve se lembrar**:\n",
    "- Tensorflow é um framework de programação utilizado para aprendizado profundo.\n",
    "- Os dois objetos principais da tensorflow são Tensores e Operadores. \n",
    "- Quando você codifica em tensorflow você deve seguir as seguintes etapas:\n",
    "    - Criar um grafo contendo os Tensores (Variáveis, Placeholders ...) e operações (tf.matmul, tf.add, ...)\n",
    "    - Criar uma sessão\n",
    "    - Inicializar a sessão\n",
    "    - Executar a sessão para computar o grafo.\n",
    "- Você pode executar o grafo diversas vezes como você viu no modelo.\n",
    "- A propagação para trás e otimização são feitas automaticamente quando a sessão é executada pelo \"optimizer\"."
   ]
  }
 ],
 "metadata": {
  "coursera": {
   "course_slug": "deep-neural-network",
   "graded_item_id": "BFd89",
   "launcher_item_id": "AH2rK"
  },
  "kernelspec": {
   "display_name": "Python 3",
   "language": "python",
   "name": "python3"
  },
  "language_info": {
   "codemirror_mode": {
    "name": "ipython",
    "version": 3
   },
   "file_extension": ".py",
   "mimetype": "text/x-python",
   "name": "python",
   "nbconvert_exporter": "python",
   "pygments_lexer": "ipython3",
   "version": "3.6.3"
  }
 },
 "nbformat": 4,
 "nbformat_minor": 1
}
