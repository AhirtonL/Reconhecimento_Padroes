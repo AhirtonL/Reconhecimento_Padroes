{
 "cells": [
  {
   "cell_type": "markdown",
   "metadata": {},
   "source": [
    "# Regressão Logística com Redes Neurais\n",
    "\n",
    "Bem-vindo ao seu primeiro programa valendo nota!! Você irá construir um classificador com regressão logística paa reconhecer gatos. Este exercício irá te mostrar como fazer esta tarefa levando em conta apenas redes neurais, de forma a te dar idéias também sobre aplicações considerando deep learning. \n",
    "\n",
    "**Instruções:**\n",
    "- Não utilize loops (for/while) em seu código, a menos que você seja explicitamente indicado a fazê-lo.\n",
    "\n",
    "**O que você vai aprender:**\n",
    "- Construir uma estrutura geral de um algoritmo de aprendizado, incluindo:\n",
    "    - Parâmetros de inicialização.\n",
    "    - Calcular a função de custo e seu gradiente.\n",
    "    - Utilizar um algoritmo de otimização (gradiente descendente) \n",
    "- Colocar estas funções juntas em um modelo, na ordem correta. "
   ]
  },
  {
   "cell_type": "markdown",
   "metadata": {},
   "source": [
    "## 1 - Pacotes ##\n",
    "\n",
    "Primeiro, vamos executar a célula abaixo para importar todos os pacotes necessários para completar a terefa. \n",
    "- [numpy](www.numpy.org) é o pacote de computação científica fundamental em Python.\n",
    "- [h5py](http://www.h5py.org) é um pacote comum para interagir com um arquivo de dados no formato H5.\n",
    "- [matplotlib](http://matplotlib.org) é uma biblioteca para plotar gráficos em Python.\n",
    "- [PIL](http://www.pythonware.com/products/pil/) e [scipy](https://www.scipy.org/) são usados aqui para testar o modelo utilizando uma imagem fornecida por você ao final. "
   ]
  },
  {
   "cell_type": "code",
   "execution_count": null,
   "metadata": {},
   "outputs": [],
   "source": [
    "import numpy as np\n",
    "import matplotlib.pyplot as plt\n",
    "import h5py\n",
    "import scipy\n",
    "from PIL import Image\n",
    "from scipy import ndimage\n",
    "from lr_utils import load_dataset\n",
    "\n",
    "%matplotlib inline"
   ]
  },
  {
   "cell_type": "markdown",
   "metadata": {
    "collapsed": true
   },
   "source": [
    "## 2 - Visão Geral da Tarefa ##\n",
    "\n",
    "**Problema**: você tem uma base de dados (\"data.h5\") que contém:\n",
    "    - um conjunto de treinamento contendo m_train imagens classificadas como gato (y=1) ou não-gato (y=0)\n",
    "    - um conjunto de teste de m_test imagens classificadas em gato ou não-gato\n",
    "    - cada imagem tem o formato (num_px, num_px, 3) onde 3 é o número de canais da imagem (RGB). Portanto, cada imagem é quadrada (altura = num_px) e (largura = num_px).\n",
    "\n",
    "Você irá construir um algoritmo simples de reconhecimento de imagens que será capaz de classificar corretamente imagens de gatos ou não-gatos.\n",
    "\n",
    "Vamos nos familiarizar com a base de dados. Carregue o arquivo de dados executando a célula abaixo. "
   ]
  },
  {
   "cell_type": "code",
   "execution_count": null,
   "metadata": {},
   "outputs": [],
   "source": [
    "# Carregando os dados (cat/non-cat)\n",
    "train_set_x_orig, train_set_y, test_set_x_orig, test_set_y, classes = load_dataset()"
   ]
  },
  {
   "cell_type": "markdown",
   "metadata": {},
   "source": [
    "Foi adicionado \"_orig\" ao final da base de dados de imagens (treinamento e teste) porque iremos pré processá-las. Após o pré processamento, teremos as bases train_set_x e test_set_x (as classificações train_set_y e test_set_y não necessitam de pré processamento).\n",
    "\n",
    "Cada linha do arquivo train_set_x_orig e test_set_x_orig é um array representando uma imagem. Você pode visualizar um exemplo executando o código da célula abaixo. Fique a vontade para modificar o valor de `indice` e execute novamente para ver outras imagens. "
   ]
  },
  {
   "cell_type": "code",
   "execution_count": null,
   "metadata": {},
   "outputs": [],
   "source": [
    "# Exemplo de imagem da base de dados\n",
    "indice = 27\n",
    "plt.imshow(train_set_x_orig[indice])\n",
    "print (\"y = \" + str(train_set_y[:, indice]) + \", é uma imagem '\" + classes[np.squeeze(train_set_y[:, indice])].decode(\"utf-8\")+\"'\")"
   ]
  },
  {
   "cell_type": "markdown",
   "metadata": {},
   "source": [
    "Muitos problemas no desenvolvimento de software em deep learning aparecem devido ao fato de matriz/vetor que possuem dimensões que não são regulares. Se você quiser manter as dimensões matriz/vetor corretas você irá precisar de algum tempo eliminando erros no código.  \n",
    "\n",
    "**Exercício:** Encontre os valores para:\n",
    "    - m_train (número de exemplos de treinamento)\n",
    "    - m_test (número de exemplos de teste)\n",
    "    - num_px (= altura = altura das imagens de treinamento)\n",
    "Lembre-se que `train_set_x_orig` é um array numpy no formato (m_train, num_px, num_px, 3). Por exemplo, você pode acessar `m_train` escrevendo `train_set_x_orig.shape[0]`."
   ]
  },
  {
   "cell_type": "code",
   "execution_count": null,
   "metadata": {
    "scrolled": true
   },
   "outputs": [],
   "source": [
    "### INICIE O SEU CÓDIGO AQUI ### (≈ 3 linhas de código)\n",
    "\n",
    "\n",
    "\n",
    "### TÉRMINO DO CÓDIGO ###\n",
    "\n",
    "print (\"Número de exemplos de treinamento: m_train = \" + str(m_train))\n",
    "print (\"Número de exemplos de teste: m_test = \" + str(m_test))\n",
    "print (\"Altura/Largura de cada imagem: num_px = \" + str(num_px))\n",
    "print (\"Cada imagem tem o formato: (\" + str(num_px) + \", \" + str(num_px) + \", 3)\")\n",
    "print (\"train_set_x formato: \" + str(train_set_x_orig.shape))\n",
    "print (\"train_set_y formato: \" + str(train_set_y.shape))\n",
    "print (\"test_set_x formato: \" + str(test_set_x_orig.shape))\n",
    "print (\"test_set_y formato: \" + str(test_set_y.shape))"
   ]
  },
  {
   "cell_type": "markdown",
   "metadata": {},
   "source": [
    "**Saída esperada para m_train, m_test e num_px**: \n",
    "<table style=\"width:15%\">\n",
    "  <tr>\n",
    "    <td>**m_train**</td>\n",
    "    <td> 209 </td> \n",
    "  </tr>\n",
    "  \n",
    "  <tr>\n",
    "    <td>**m_test**</td>\n",
    "    <td> 50 </td> \n",
    "  </tr>\n",
    "  \n",
    "  <tr>\n",
    "    <td>**num_px**</td>\n",
    "    <td> 64 </td> \n",
    "  </tr>\n",
    "  \n",
    "</table>\n"
   ]
  },
  {
   "cell_type": "markdown",
   "metadata": {},
   "source": [
    "Por conveniência, você pode reformatar as imagens do formato (num_px, num_px, 3) em um array numpy no formato (num_px $*$ num_px $*$ 3, 1). Após isto, sua base de treinamento e teste é um array numpy onde cada coluna representa uma imagem \"desenrolada\". O arquivo deverá ter m_train (respectivamente m_test) colunas. \n",
    "\n",
    "**Exercício:** Reformate o conjunto de treinamento e tete de forma que cada imagem no formato (num_px, num_px, 3) seja transformada em um único vetor no formato (num\\_px $*$ num\\_px $*$ 3, 1).\n",
    "\n",
    "Um truque para quando você quer vetorizar um matriz do formato (a,b,c,d) para um vetor no formato (b$*$c$*$d, a) utilize: \n",
    "```python\n",
    "X_flatten = X.reshape(X.shape[0], -1).T      # X.T é a matriz transposta de X\n",
    "```"
   ]
  },
  {
   "cell_type": "code",
   "execution_count": null,
   "metadata": {},
   "outputs": [],
   "source": [
    "# Reformate os exemplos de treinamento e de teste\n",
    "\n",
    "### INICIE O SEU CÓDIGO AQUI ### (≈ 2 linhas de código)\n",
    "\n",
    "\n",
    "### TÉRMINO DO CÓDIGO ###\n",
    "\n",
    "print (\"train_set_x_flatten FORMATO: \" + str(train_set_x_flatten.shape))\n",
    "print (\"train_set_y FORMATO: \" + str(train_set_y.shape))\n",
    "print (\"test_set_x_flatten FORMATO: \" + str(test_set_x_flatten.shape))\n",
    "print (\"test_set_y FORMATO: \" + str(test_set_y.shape))\n",
    "print (\"verificação após a vetorização: \" + str(train_set_x_flatten[0:5,0]))"
   ]
  },
  {
   "cell_type": "markdown",
   "metadata": {},
   "source": [
    "**Saída Esperada**: \n",
    "\n",
    "<table style=\"width:35%\">\n",
    "  <tr>\n",
    "    <td>**train_set_x_flatten formato**</td>\n",
    "    <td> (12288, 209)</td> \n",
    "  </tr>\n",
    "  <tr>\n",
    "    <td>**train_set_y formato**</td>\n",
    "    <td>(1, 209)</td> \n",
    "  </tr>\n",
    "  <tr>\n",
    "    <td>**test_set_x_flatten formato**</td>\n",
    "    <td>(12288, 50)</td> \n",
    "  </tr>\n",
    "  <tr>\n",
    "    <td>**test_set_y formato**</td>\n",
    "    <td>(1, 50)</td> \n",
    "  </tr>\n",
    "  <tr>\n",
    "  <td>**verificação após a vetorização**</td>\n",
    "  <td>[17 31 56 22 33]</td> \n",
    "  </tr>\n",
    "</table>"
   ]
  },
  {
   "cell_type": "markdown",
   "metadata": {},
   "source": [
    "Para representar as imagens coloridas, os canais vermelho, verde e azul (RGB) devem ser especificados para cada pixel, logo o valor do pixel é um vetor com 3 valores, cada um entre 0 e 255. \n",
    "\n",
    "Uma etapa comum de pré processamento em aprendizado de máquina está relacionada a centrar e normalizar a base de dados, isto é, subtrair a média do array numpy e divida cada valor pelo desvio padrão de todo o array numpy. Para bases de dados de imagens é mais simples e conveniente e acaba funcionando quase da mesma forma, divida cada valor do pixel por 255 (o valor máximo do pixel em cada canal). \n",
    "\n",
    "<!-- Durante o treinamento de seu modelo, você irá multiplicar os pesos e adicionar bias em alguns valores de entrada inicial para que ocorram ativações dos neurônios. Então você pode \"backpropagar\" com os gradientes para treinar o modelo. Mas, é extremamente importante para cada característica ter um domínio de valores similar para que os valores de gradiente não explodam. Você verá com mais detalhes nas próximas aulas.  !--> \n",
    "\n",
    "Vamos normalizar a base de dados."
   ]
  },
  {
   "cell_type": "code",
   "execution_count": null,
   "metadata": {},
   "outputs": [],
   "source": [
    "train_set_x = train_set_x_flatten/255.\n",
    "test_set_x = test_set_x_flatten/255."
   ]
  },
  {
   "cell_type": "markdown",
   "metadata": {},
   "source": [
    "<font color='blue'>\n",
    "**O que você precisa lembrar:**\n",
    "\n",
    "Etapas comuns no pré processamento de um conjunto de dados: \n",
    "- Determinar as dimensões e formatos utilizados no problema (m_train, m_test, num_px, ...)\n",
    "- Reformatar a base de dados de forma que cada exemplo esteja com o formato de um vetor de tamanho (num_px \\* num_px \\* 3, 1)\n",
    "- \"Normalizar\" os dados"
   ]
  },
  {
   "cell_type": "markdown",
   "metadata": {},
   "source": [
    "## 3 - Arquitetura Geral de um algoritmo de aprendizado ##\n",
    "\n",
    "É tempo de projetar um algoritmo simples que classifique imagens como gato ou não-gato. \n",
    "\n",
    "Você irá construir uma Regressão Logística utilizando uma rede neural. A figura abaixo mostra porque a **Regressão Logística é, na verdade, um modelo simples de Rede Neural!**\n",
    "\n",
    "<img src=\"images/LogReg_kiank.png\" style=\"width:650px;height:400px;\">\n",
    "\n",
    "**Expressão Matemática do Algoritmo**:\n",
    "\n",
    "Para um exemplo $x^{(i)}$:\n",
    "$$z^{(i)} = w^T x^{(i)} + b \\tag{1}$$\n",
    "$$\\hat{y}^{(i)} = a^{(i)} = sigmoid(z^{(i)})\\tag{2}$$ \n",
    "$$ \\mathcal{L}(a^{(i)}, y^{(i)}) =  - y^{(i)}  \\log(a^{(i)}) - (1-y^{(i)} )  \\log(1-a^{(i)})\\tag{3}$$\n",
    "\n",
    "O custo é então determinado pela soma sobre todos os exemplos de treinamento:\n",
    "$$ J = \\frac{1}{m} \\sum_{i=1}^m \\mathcal{L}(a^{(i)}, y^{(i)})\\tag{4}$$\n",
    "\n",
    "**Etapas chave**:\n",
    "Neste exercício, você irá executar as seguintes etapas: \n",
    "    - Inicializar os parâmetros do modelo. \n",
    "    - Aprender os parâmetros para o modelo através da minimização do custo.   \n",
    "    - Utilizar os parâmetros aprendidos para fazer predições (no conjunto de teste)\n",
    "    - Analise os resultados e conclua."
   ]
  },
  {
   "cell_type": "markdown",
   "metadata": {},
   "source": [
    "## 4 - Partes do nosso algoritmo ## \n",
    "\n",
    "As etapas principais para se construir uma rede neural são:\n",
    "1. Definir a estrutura do modelo (por exemplo, o número de características da entrada) \n",
    "2. Inicializar os parâmetros do modelo.\n",
    "3. Loop:\n",
    "    - Calcular a perda atual (propagação para frente)\n",
    "    - Calcular o gradiente atual (propagação para trás)\n",
    "    - Atualizar os parâmetros (gradiente descendente)\n",
    "\n",
    "Normalmente se constroem as funções de 1 a 3 separadamente e faz-se a integração delas em uma única função chamada de `modelo()`.\n",
    "\n",
    "### 4.1 - Funções auxiliares\n",
    "\n",
    "**Exercício**: Utilizando o código do \"Python Basico\", implemente `sigmoid()`. Como você pode ver na figura a cima, você irá precisar calcular $sigmoid( w^T x + b) = \\frac{1}{1 + e^{-(w^T x + b)}}$ para fazer as predições. Use np.exp()."
   ]
  },
  {
   "cell_type": "code",
   "execution_count": null,
   "metadata": {},
   "outputs": [],
   "source": [
    "# FUNÇÃO DE AVALIAÇÃO: sigmoid\n",
    "\n",
    "def sigmoid(z):\n",
    "    \"\"\"\n",
    "    Computa o valor do sigmoid de z\n",
    "\n",
    "    Argumentos:\n",
    "    z -- Um escalar ou array numpy de qualquer tamanho.\n",
    "\n",
    "    Retorna:\n",
    "    s -- sigmoid(z)\n",
    "    \"\"\"\n",
    "\n",
    "    ### INICIE O SEU CÓDIGO AQUI ### (≈ 1 linha de código)\n",
    "    \n",
    "    ### TÉRMINO DO CÓDIGO ###\n",
    "    \n",
    "    return s"
   ]
  },
  {
   "cell_type": "code",
   "execution_count": null,
   "metadata": {
    "scrolled": true
   },
   "outputs": [],
   "source": [
    "print (\"sigmoid([0, 2]) = \" + str(sigmoid(np.array([0,2]))))"
   ]
  },
  {
   "cell_type": "markdown",
   "metadata": {},
   "source": [
    "**Saída Esperada**: \n",
    "\n",
    "<table>\n",
    "  <tr>\n",
    "    <td>**sigmoid([0, 2])**</td>\n",
    "    <td> [ 0.5         0.88079708]</td> \n",
    "  </tr>\n",
    "</table>"
   ]
  },
  {
   "cell_type": "markdown",
   "metadata": {},
   "source": [
    "### 4.2 - Parâmetros de inicialização\n",
    "\n",
    "**Exercício:** Implemente a inicialização de parâmetros na célula abaixo. Você deve inicializar w como um vetor de zeros. Se você não sabe qual função do numpy utilizar, de uma olhada em np.zeros() na documentação da biblioteca numpy. "
   ]
  },
  {
   "cell_type": "code",
   "execution_count": null,
   "metadata": {},
   "outputs": [],
   "source": [
    "# FUNÇÃO DE AVALIAÇÃO: inicializacao_com_zeros\n",
    "\n",
    "def inicializacao_com_zeros(dim):\n",
    "    \"\"\"\n",
    "    Esta função cria um vetor de zeros no formato (dim, 1) para w e inicializa b com 0.\n",
    "    \n",
    "    Argumento:\n",
    "    dim -- tamanho do vetor w que se deseja (ou, neste caso, número de parâmetros)\n",
    "    \n",
    "    Retorna:\n",
    "    w -- vetor inicializado com zeros no formato (dim, 1)\n",
    "    b -- valor escalar inicializado com zero (corresponde ao bias)\n",
    "    \"\"\"\n",
    "    \n",
    "    ### INICIE O SEU CÓDIGO AQUI ### (≈ 1 linha de código)\n",
    "\n",
    "    \n",
    "    ### TÉRMINO DO CÓDIGO ###\n",
    "\n",
    "    assert(w.shape == (dim, 1))\n",
    "    assert(isinstance(b, float) or isinstance(b, int))\n",
    "    \n",
    "    return w, b"
   ]
  },
  {
   "cell_type": "code",
   "execution_count": null,
   "metadata": {},
   "outputs": [],
   "source": [
    "dim = 2\n",
    "w, b = inicializacao_com_zeros(dim)\n",
    "print (\"w = \" + str(w))\n",
    "print (\"b = \" + str(b))"
   ]
  },
  {
   "cell_type": "markdown",
   "metadata": {},
   "source": [
    "**Saída Esperada**: \n",
    "\n",
    "\n",
    "<table style=\"width:15%\">\n",
    "    <tr>\n",
    "        <td>  ** w **  </td>\n",
    "        <td> [[ 0.]\n",
    " [ 0.]] </td>\n",
    "    </tr>\n",
    "    <tr>\n",
    "        <td>  ** b **  </td>\n",
    "        <td> 0 </td>\n",
    "    </tr>\n",
    "</table>\n",
    "\n",
    "Para entradas do tipo imagem, w terá a forma (num_px $\\times$ num_px $\\times$ 3, 1)."
   ]
  },
  {
   "cell_type": "markdown",
   "metadata": {},
   "source": [
    "### 4.3 - Propagação para frente e para trás\n",
    "\n",
    "Agora que os parâmetros foram inicializados, é possível realizar as propagações para frente e para trás de forma a aprender os parâmetros. \n",
    "\n",
    "**Exercício:** Implemente a função `propagar()` que determina a função custo e o seu gradiente.\n",
    "\n",
    "**Dicas**:\n",
    "\n",
    "Propagação para frente:\n",
    "- Com o valor de X\n",
    "- Determine $A = \\sigma(w^T X + b) = (a^{(0)}, a^{(1)}, ..., a^{(m-1)}, a^{(m)})$\n",
    "- e calcule a função custo: $J = -\\frac{1}{m}\\sum_{i=1}^{m}y^{(i)}\\log(a^{(i)})+(1-y^{(i)})\\log(1-a^{(i)})$\n",
    "\n",
    "As fórmulas que você irá utilizar estão indicadas abaixo: \n",
    "\n",
    "$$ \\frac{\\partial J}{\\partial w} = \\frac{1}{m}X(A-Y)^T\\tag{5}$$\n",
    "$$ \\frac{\\partial J}{\\partial b} = \\frac{1}{m} \\sum_{i=1}^m (a^{(i)}-y^{(i)})\\tag{6}$$"
   ]
  },
  {
   "cell_type": "code",
   "execution_count": null,
   "metadata": {},
   "outputs": [],
   "source": [
    "# FUNÇÃO DE AVALIAÇÃO: propagate\n",
    "\n",
    "def propagar(w, b, X, Y):\n",
    "    \"\"\"\n",
    "    Implemente a função custo e o seu gradiente para a propagação explicada acima.\n",
    "\n",
    "    Argumentos:\n",
    "    w -- pesos, um array numpy de tamanho (num_px * num_px * 3, 1)\n",
    "    b -- bias, um escalar\n",
    "    X -- dados no formato (num_px * num_px * 3, número de exemplos)\n",
    "    Y -- vetor de saída com a classificação correta de cada imagem (contém 0 se for não-gato, 1 se for gato) \n",
    "         no formato (1, número de exemplos)\n",
    "\n",
    "    Retorna:\n",
    "    custo -- o valor do custo por regressão logística\n",
    "    dw -- gradiente da perda em relação a w, portanto possui o formato de w\n",
    "    db -- gradiente da perda com relação a b, portanto possui o formato de b\n",
    "    \n",
    "    Dicas:\n",
    "    - Escreva seu código passo a passo para a propagação. np.log(), np.dot()\n",
    "    \"\"\"\n",
    "    \n",
    "    m = X.shape[1]\n",
    "    \n",
    "    # PROPAGAÇÃO PARA FRENTE (DE X PARA O CUSTO)\n",
    "    ### INICIE O SEU CÓDIGO AQUI ### (≈ 2 linhas de código)\n",
    "                                 # determina a ativação\n",
    "                                 # determina o custo\n",
    "    ### TÉRMINO DO CÓDIGO ###\n",
    "    \n",
    "    # PROPAGAÇÃO PARA TRÁS (DETERMINAÇÃO DO GRADIENTE)\n",
    "    ### INICIE O SEU CÓDIGO AQUI ### (≈ 2 linhas de código)\n",
    "   \n",
    "   \n",
    "    ### TÉRMINO DO CÓDIGO ###\n",
    "\n",
    "    assert(dw.shape == w.shape)\n",
    "    assert(db.dtype == float)\n",
    "    custo = np.squeeze(custo)\n",
    "    assert(custo.shape == ())\n",
    "    \n",
    "    grads = {\"dw\": dw,\n",
    "             \"db\": db}\n",
    "    \n",
    "    return grads, custo"
   ]
  },
  {
   "cell_type": "code",
   "execution_count": null,
   "metadata": {},
   "outputs": [],
   "source": [
    "w, b, X, Y = np.array([[1.],[2.]]), 2., np.array([[1.,2.,-1.],[3.,4.,-3.2]]), np.array([[1,0,1]])\n",
    "grads, custo = propagar(w, b, X, Y)\n",
    "print (\"dw = \" + str(grads[\"dw\"]))\n",
    "print (\"db = \" + str(grads[\"db\"]))\n",
    "print (\"custo = \" + str(custo))"
   ]
  },
  {
   "cell_type": "markdown",
   "metadata": {},
   "source": [
    "**Saída Esperada**:\n",
    "\n",
    "<table style=\"width:50%\">\n",
    "    <tr>\n",
    "        <td>  ** dw **  </td>\n",
    "      <td> [[ 0.99845601]\n",
    "     [ 2.39507239]]</td>\n",
    "    </tr>\n",
    "    <tr>\n",
    "        <td>  ** db **  </td>\n",
    "        <td> 0.00145557813678 </td>\n",
    "    </tr>\n",
    "    <tr>\n",
    "        <td>  ** custo **  </td>\n",
    "        <td> 5.801545319394553 </td>\n",
    "    </tr>\n",
    "\n",
    "</table>"
   ]
  },
  {
   "cell_type": "markdown",
   "metadata": {},
   "source": [
    "### d) Otimização\n",
    "- Você já inicializou os parâmetros.\n",
    "- Você também já determinou o custo e seu gradiente.\n",
    "- Agora, falta atualizar os parâmetros utilizando o gradiente descendente. \n",
    "\n",
    "**Exercício:** Escreva a função de otimização. O objetivo é aprender $w$ e $b$ minimizando a função de custo $J$. Para um parâmetro $\\theta$, a regra de atualização é: $ \\theta = \\theta - \\alpha \\text{ } d\\theta$, onde $\\alpha$ é a taxa de aprendizado."
   ]
  },
  {
   "cell_type": "code",
   "execution_count": null,
   "metadata": {},
   "outputs": [],
   "source": [
    "# FUNÇÃO DE AVALIAÇÃO: otimizar\n",
    "\n",
    "def otimizar(w, b, X, Y, num_iterations, learning_rate, print_cost = False):\n",
    "    \"\"\"\n",
    "    Esta função otimiza w e b através do algoritmo gradiente descendente\n",
    "    \n",
    "    Argumentos:\n",
    "    w -- pesos, um array numpy no formato (num_px * num_px * 3, 1)\n",
    "    b -- bias, um escalar\n",
    "    X -- dados no formato (num_px * num_px * 3, número de exemplos)\n",
    "    Y -- vetor de saída com a classificação correta ( 0 se for não-gato, 1 se for gato) no formato (1, número de exemplos)\n",
    "    num_iterations -- número de interações do loop de otimização.\n",
    "    learning_rate -- taxa de aprendizado utilizada pela regra do gradiente descendente.\n",
    "    print_cost -- True para imprimir a perda a cada 100 interações\n",
    "    \n",
    "    Retorna:\n",
    "    params -- dicionário contendo os pesos w e o bias b\n",
    "    grads -- dicionário contendo os gradientes dos pesos e bias com relação a função custo\n",
    "    custos -- lista de todos os custos computados durante a otimizacao, isto será utilizado para imprimir a curva de aprendizado.\n",
    "    \n",
    "    Dicas:\n",
    "    Você basicamente precisa escrever as duas etapas e interar entre elas:\n",
    "        1) Calcule o custo e o gradiente para os parâmetros atuais. Use propagar().\n",
    "        2) Atualize os parâmetros utilizando a regra do gradiente descendente para w e b.\n",
    "    \"\"\"\n",
    "    \n",
    "    custos = []\n",
    "    \n",
    "    for i in range(num_iterations):\n",
    "        \n",
    "        \n",
    "        # Calculo do custo e do gradiente (≈ 1-4 linhas de código)\n",
    "        ### INICIE O SEU CÓDIGO AQUI ### \n",
    "        \n",
    "        ### TÉRMINO DO CÓDIGO ###\n",
    "        \n",
    "        # Recupere as derivativas dos gradientes\n",
    "        dw = grads[\"dw\"]\n",
    "        db = grads[\"db\"]\n",
    "        \n",
    "        # regra de atualização (≈ 2 linhas de código)\n",
    "        ### INICIE O SEU CÓDIGO AQUI ###\n",
    "       \n",
    "    \n",
    "        ### TÉRMINO DO CÓDIGO ###\n",
    "        \n",
    "        # armazena os custos\n",
    "        if i % 100 == 0:\n",
    "            custos.append(custo)\n",
    "        \n",
    "        # Imprime os custosa cada 100 interações no conjunto de treinamento\n",
    "        if print_cost and i % 100 == 0:\n",
    "            print (\"Custo após a interação %i: %f\" %(i, custo))\n",
    "    \n",
    "    params = {\"w\": w,\n",
    "              \"b\": b}\n",
    "    \n",
    "    grads = {\"dw\": dw,\n",
    "             \"db\": db}\n",
    "    \n",
    "    return params, grads, custos"
   ]
  },
  {
   "cell_type": "code",
   "execution_count": null,
   "metadata": {},
   "outputs": [],
   "source": [
    "params, grads, custos = otimizar(w, b, X, Y, num_iterations= 100, learning_rate = 0.009, print_cost = False)\n",
    "\n",
    "print (\"w = \" + str(params[\"w\"]))\n",
    "print (\"b = \" + str(params[\"b\"]))\n",
    "print (\"dw = \" + str(grads[\"dw\"]))\n",
    "print (\"db = \" + str(grads[\"db\"]))"
   ]
  },
  {
   "cell_type": "markdown",
   "metadata": {},
   "source": [
    "**Saída Esperada**: \n",
    "\n",
    "<table style=\"width:40%\">\n",
    "    <tr>\n",
    "       <td> **w** </td>\n",
    "       <td>[[ 0.19033591]\n",
    " [ 0.12259159]] </td>\n",
    "    </tr>\n",
    "    \n",
    "    <tr>\n",
    "       <td> **b** </td>\n",
    "       <td> 1.92535983008 </td>\n",
    "    </tr>\n",
    "    <tr>\n",
    "       <td> **dw** </td>\n",
    "       <td> [[ 0.67752042]\n",
    " [ 1.41625495]] </td>\n",
    "    </tr>\n",
    "    <tr>\n",
    "       <td> **db** </td>\n",
    "       <td> 0.219194504541 </td>\n",
    "    </tr>\n",
    "\n",
    "</table>"
   ]
  },
  {
   "cell_type": "markdown",
   "metadata": {},
   "source": [
    "**Exercício:** A função anterior irá retornar os valores de w e b aprendidos. Podemos utilizar os valores de w e b para avaliar a saída para um novo conjunto de dados X. Implemente a função `prever()`. Existem duas etapas para fazer uma predição:\n",
    "\n",
    "1. Calcular $\\hat{Y} = A = \\sigma(w^T X + b)$\n",
    "\n",
    "2. Converter as entradas em 0 (se a ativação for <= 0.5) ou 1 (se a ativação for > 0.5), armazene as previsões em um vetor  `Y_previsto`. Se você quiser, você pode utilizar um comando `if`/`else` no loop `for` (porém, existe uma forma de vetorizar esta operação). "
   ]
  },
  {
   "cell_type": "code",
   "execution_count": null,
   "metadata": {},
   "outputs": [],
   "source": [
    "# FUNÇÃO DE AVALIAÇÃO: prever\n",
    "\n",
    "def prever(w, b, X):\n",
    "    '''\n",
    "    Prever se a saída é 0 ou 1 utilizando os parâmetros (w, b) aprendidos na regressão logística\n",
    "    \n",
    "    Argumentos:\n",
    "    w -- pesos, um array numpy array no formato (num_px * num_px * 3, 1)\n",
    "    b -- bias, um escalar\n",
    "    X -- dados, no formato (num_px * num_px * 3, número de exemplos)\n",
    "    \n",
    "    Retorna:\n",
    "    Y_previsto -- um array numpy contendo as previsões (0/1) para os exemplos em X\n",
    "    '''\n",
    "    \n",
    "    m = X.shape[1]\n",
    "    Y_previsto = np.zeros((1,m))\n",
    "    w = w.reshape(X.shape[0], 1)\n",
    "    \n",
    "    # Compute o vetor \"A\" prevendo as probabilidades de existir um gato na imagem \n",
    "    ### INICIE O SEU CÓDIGO AQUI ### (≈ 1 linha de código)\n",
    "    \n",
    "    ### TÉRMINO DO CÓDIGO ###\n",
    "    \n",
    "    for i in range(A.shape[1]):\n",
    "        \n",
    "        # Converta as probabilidades A[0,i] para previsões p[0,i]\n",
    "        ### INICIE O SEU CÓDIGO AQUI ### (≈ 4 linhas de código)\n",
    "        \n",
    "        \n",
    "        ### TÉRMINO DO CÓDIGO ###\n",
    "    \n",
    "    assert(Y_previsto.shape == (1, m))\n",
    "    \n",
    "    return Y_previsto"
   ]
  },
  {
   "cell_type": "code",
   "execution_count": null,
   "metadata": {},
   "outputs": [],
   "source": [
    "w = np.array([[0.1124579],[0.23106775]])\n",
    "b = -0.3\n",
    "X = np.array([[1.,-1.1,-3.2],[1.2,2.,0.1]])\n",
    "print (\"previsões = \" + str(prever(w, b, X)))"
   ]
  },
  {
   "cell_type": "markdown",
   "metadata": {},
   "source": [
    "**Saída Esperada**: \n",
    "\n",
    "<table style=\"width:30%\">\n",
    "    <tr>\n",
    "         <td>\n",
    "             **previsões**\n",
    "         </td>\n",
    "          <td>\n",
    "            [[ 1.  1.  0.]]\n",
    "         </td>  \n",
    "   </tr>\n",
    "\n",
    "</table>\n"
   ]
  },
  {
   "cell_type": "markdown",
   "metadata": {
    "collapsed": true
   },
   "source": [
    "<font color='blue'>\n",
    "**Lembre-se:**\n",
    "Você implementou várias funções que:\n",
    "- Inicializa (w,b)\n",
    "- Otimiza a perda interativamente para aprender os parâmetros (w,b):\n",
    "    - determina o custo e seu gradiente \n",
    "    - atualiza os parâmetros utilizando o gradiente descendente\n",
    "- Utiliza os parâmetros aprendidos (w,b) para prever a classificação de um novo conjunto de imagens."
   ]
  },
  {
   "cell_type": "markdown",
   "metadata": {},
   "source": [
    "## 5 - Junte todas as funções criando um modelo ##\n",
    "\n",
    "Agora você irá ver como o modelo geral é estruturado colocando todos os blocos (funções implementadas anteriormente) juntos e na ordem correta.\n",
    "\n",
    "**Exercício:** Implemente a função modelo. Utilize a seguinte notação:\n",
    "    - Y_previsto para as previsões no conjunto de teste.\n",
    "    - Y_previsto_train para as previsões no conjunto de treinamento.\n",
    "    - w, custos, grads para as saídas do otimizar()"
   ]
  },
  {
   "cell_type": "code",
   "execution_count": null,
   "metadata": {},
   "outputs": [],
   "source": [
    "# FUNÇÃO DE AVALIAÇÃO: modelo\n",
    "\n",
    "def modelo(X_train, Y_train, X_test, Y_test, num_iterations = 2000, learning_rate = 0.5, print_cost = False):\n",
    "    \"\"\"\n",
    "    Construa o modelo de regressão logística chamando as funções já implementadas\n",
    "    \n",
    "    Argumentos:\n",
    "    X_train -- conjunto de treinamento representado por um array numpy no formato (num_px * num_px * 3, m_train)\n",
    "    Y_train -- classificação das imagens do conjunto de treinamento representado por um array numpy no formato (1, m_train)\n",
    "    X_test -- conjunto de teste representado por um arra numpy no formato (num_px * num_px * 3, m_test)\n",
    "    Y_test -- classificação das imagens do conjunto de teste representado por um array numpy no formato (1, m_test)\n",
    "    num_iterations -- hyperparametro representando o número de interações para a otimização dos parâmetros\n",
    "    learning_rate -- hyperparametro representando a taxa de aprendizado utilizada na regra de atualização do otimizar()\n",
    "    print_cost -- Ajustado para true para imprimir o custo a cada 100 interações\n",
    "    \n",
    "    Retorna:\n",
    "    d -- dicionário contendo informações sobre o modelo.\n",
    "    \"\"\"\n",
    "\n",
    "    ### INICIE O SEU CÓDIGO AQUI ###\n",
    "    \n",
    "    # inicialize os parâmetros com zeros (≈ 1 linha de código)\n",
    "    \n",
    "    # Gradiente descendente (≈ 1 linha de código)\n",
    "    \n",
    "    \n",
    "    # Recupere os parâmetros w e b do dicionário \"parameters\" (~ 2 linhas de código)\n",
    "    \n",
    "    \n",
    "    \n",
    "    # Prever para os exemplos dos conjuntos de treinamento/teste (≈ 2 linhas de código)\n",
    "    \n",
    "\n",
    "    ### TÉRMINO DO CÓDIGO ###\n",
    "\n",
    "    # Imprimir os erros para o treinamento/teste\n",
    "    print(\"precisão no conjunto de treinamento: {} %\".format(100 - np.mean(np.abs(Y_prediction_train - Y_train)) * 100))\n",
    "    print(\"precisão no conjunto de teste: {} %\".format(100 - np.mean(np.abs(Y_prediction_test - Y_test)) * 100))\n",
    "\n",
    "    \n",
    "    d = {\"costs\": costs,\n",
    "         \"Y_prediction_test\": Y_prediction_test, \n",
    "         \"Y_prediction_train\" : Y_prediction_train, \n",
    "         \"w\" : w, \n",
    "         \"b\" : b,\n",
    "         \"learning_rate\" : learning_rate,\n",
    "         \"num_iterations\": num_iterations}\n",
    "    \n",
    "    return d"
   ]
  },
  {
   "cell_type": "markdown",
   "metadata": {},
   "source": [
    "Execute a célula abaixo para treinar o modelo."
   ]
  },
  {
   "cell_type": "code",
   "execution_count": null,
   "metadata": {},
   "outputs": [],
   "source": [
    "d = modelo(train_set_x, train_set_y, test_set_x, test_set_y, num_iterations = 2000, learning_rate = 0.005, print_cost = True)"
   ]
  },
  {
   "cell_type": "markdown",
   "metadata": {},
   "source": [
    "**Saída Esperada**: \n",
    "\n",
    "<table style=\"width:40%\"> \n",
    "\n",
    "    <tr>\n",
    "        <td> **Custo após a interação 0 **  </td> \n",
    "        <td> 0.693147 </td>\n",
    "    </tr>\n",
    "      <tr>\n",
    "        <td> <center> $\\vdots$ </center> </td> \n",
    "        <td> <center> $\\vdots$ </center> </td> \n",
    "    </tr>  \n",
    "    <tr>\n",
    "        <td> **Precisão no conjunto de treinamento**  </td> \n",
    "        <td> 99.04306220095694 % </td>\n",
    "    </tr>\n",
    "\n",
    "    <tr>\n",
    "        <td>**Precisão no conjunto de teste** </td> \n",
    "        <td> 70.0 % </td>\n",
    "    </tr>\n",
    "</table> \n",
    "\n",
    "\n"
   ]
  },
  {
   "cell_type": "markdown",
   "metadata": {
    "collapsed": true
   },
   "source": [
    "**Comentários**: A precisão no conjunto de treinamento é próxima a 100%. Esta é uma verificação saudável: o modelo está funcionando e tem capacidade de se ajustar aos dados de treinamento. A precisão no conjunto de testes é da ordem de 70%. Isto não é tão ruim se levarmos em conta a simplicidade do modelo e o tamanho reduzido do conjunto de treinamento e que a regressão logística é um classificador linear. Mas não se preocupe, você irá construir um modelo melhor nas próximas aulas. \n",
    "\n",
    "Um outro detalhe, é possível ver que o modelo está \"sobreajustando\" os dados de treinamento. Mas para frente iremos ver como reduzir o \"sobreajuste\", por exemplo, utilizando regularização. Utilize o código abaixo (e modifique o `indice`) para ver outras previsões do conjunto de teste."
   ]
  },
  {
   "cell_type": "code",
   "execution_count": null,
   "metadata": {},
   "outputs": [],
   "source": [
    "# Exemplo de uma imagem classificada erradamente.\n",
    "indice = 5\n",
    "plt.imshow(test_set_x[:,indice].reshape((num_px, num_px, 3)))\n",
    "print (\"y = \" + str(test_set_y[0,indice])  + \", você preveu que é uma imagem \" + str(d[\"Y_prediction_test\"][0,indice]) ) "
   ]
  },
  {
   "cell_type": "markdown",
   "metadata": {},
   "source": [
    "Vamos plotar a função de custo e os gradientes."
   ]
  },
  {
   "cell_type": "code",
   "execution_count": null,
   "metadata": {},
   "outputs": [],
   "source": [
    "# Plotar a curva de aprendizado (com custos)\n",
    "costs = np.squeeze(d['costs'])\n",
    "plt.plot(costs)\n",
    "plt.ylabel('custo')\n",
    "plt.xlabel('iterações (* 100)')\n",
    "plt.title(\"Taxa de aprendizado =\" + str(d[\"learning_rate\"]))\n",
    "plt.show()"
   ]
  },
  {
   "cell_type": "markdown",
   "metadata": {
    "collapsed": true
   },
   "source": [
    "**Interpretação**:\n",
    "Você pode ver que o custo decresce. Isto mostra que os parâmetros estão sendo aprendidos. Porém, você percebe que poderia treinar o modelo ainda mais neste conjunto de treinamento. Tente aumentar o número de interações nas células acima e execute novamente. Você irá perceber que a precisão no conjunto de treinamento aumenta mas que no conjunto de teste a precisão diminui. Isto se chama \"sobreajuste\" (overfitting).  "
   ]
  },
  {
   "cell_type": "markdown",
   "metadata": {},
   "source": [
    "## 6 - Análises adicionais (opcional/exercício não avaliado) ##\n",
    "\n",
    "Parabéns na construção do seu primeiro modelo de classificação de imagens. Vamos analisar um pouco mais e examinar possiveis escolhas para o valor da taxa de aprendizado $\\alpha$. "
   ]
  },
  {
   "cell_type": "markdown",
   "metadata": {},
   "source": [
    "#### Escolha da taxa de aprendizado ####\n",
    "\n",
    "**Lembre-se**:\n",
    "Para que o gradiente descendente funcione você deve selecionar uma taxa de aprendizado com sabedoria. A taxa de aprendizado  $\\alpha$  determina a velocidade com que os parâmetros são atualizados. Se a taxa é muito grande você pode passar (\"overshoot\") o valor ótimo. De forma semelhante, se o valor for muito pequeno, você irá precisar de muitas interações para convergir para o valor ótimo. Por isso é necessário utilizar uma taxa de aprendizado bem ajustada. \n",
    "\n",
    "Vamos comparar a curva de aprendizado de nosso modelo com taxas de aprendizado diferentes. Execute a célula abaixo, deve levar em torno de 1 minuto. Sinta-se a vontade para tentar valores diferentes que os utilizados no array `learning_rates` para ver o que acontece. "
   ]
  },
  {
   "cell_type": "code",
   "execution_count": null,
   "metadata": {},
   "outputs": [],
   "source": [
    "learning_rates = [0.01, 0.001, 0.0001]\n",
    "models = {}\n",
    "for i in learning_rates:\n",
    "    print (\"Taxa de aprendizado é: \" + str(i))\n",
    "    models[str(i)] = modelo(train_set_x, train_set_y, test_set_x, test_set_y, num_iterations = 2000, learning_rate = i, print_cost = False)\n",
    "    print ('\\n' + \"-------------------------------------------------------\" + '\\n')\n",
    "\n",
    "for i in learning_rates:\n",
    "    plt.plot(np.squeeze(models[str(i)][\"costs\"]), label= str(models[str(i)][\"learning_rate\"]))\n",
    "\n",
    "plt.ylabel('custo')\n",
    "plt.xlabel('interações')\n",
    "\n",
    "legend = plt.legend(loc='upper center', shadow=True)\n",
    "frame = legend.get_frame()\n",
    "frame.set_facecolor('0.90')\n",
    "plt.show()"
   ]
  },
  {
   "cell_type": "markdown",
   "metadata": {},
   "source": [
    "**Interpretação**: \n",
    "- Taxas de aprendizado diferentes dão custos diferentes e, portanto, resultados diferentes nas previsões. \n",
    "- Se a taxa de aprendizado é muito grande (0.01), o custo pode oscilar. Ela pode até divergir (embora neste exemplo, utilizando 0.01, ele ainda caba com um bom valor de custo). \n",
    "- Um custo menor não significa necessariamente um modelo melhor. Você deve verificar se esta ocorrendo sobreajustes. Isto ocorre quando a precisão no conjunto de treinamento é muito maior que a precisão no conjunto de teste. \n",
    "- Em deep learning, normalmente se recomenda que: \n",
    "    - Escolha uma taxa de aprendizado que minimize a função de custo. \n",
    "    - Se o modelo sobreajustar, utilize técnicas para reduzir o sobreajuste (iremos tratar disto mais a frente)\n"
   ]
  },
  {
   "cell_type": "markdown",
   "metadata": {
    "collapsed": true
   },
   "source": [
    "## 7 - Teste com sua própria imagem (opcional/exercício não avaliado) ##\n",
    "\n",
    "Parabéns, você concluiu esta tarefa. Você pode utilizar uma imagem qualquer e verificar a saída do seu modelo. Para isso faça: \n",
    "    1. Clique na TAB \"File\" na barra superior deste notebook, e clique em \"Open\" para ir para o seu Hub.\n",
    "    2. Adicione a sua imagem para o diretório \"images\" do Notebook Jupiter.\n",
    "    3. Troque o nome da sua imagem no código abaixo.\n",
    "    4. Execute o código e verifique se o algoritmo esta correto (1 = gato, 0 = não-gato)!"
   ]
  },
  {
   "cell_type": "code",
   "execution_count": null,
   "metadata": {
    "scrolled": false
   },
   "outputs": [],
   "source": [
    "## INICIE O SEU CÓDIGO AQUI ## (coloque o nome da sua imagem aqui) \n",
    "my_image =                               # troque a imagem para o seu arquivo \n",
    "## TÉRMINO DO CÓDIGO ##\n",
    "\n",
    "# Pré processamento da imagem para ajuste ao modelo.\n",
    "fname = \"images/\" + my_image\n",
    "image = np.array(ndimage.imread(fname, flatten=False))\n",
    "my_image = scipy.misc.imresize(image, size=(num_px,num_px)).reshape((1, num_px*num_px*3)).T\n",
    "my_predicted_image = prever(d[\"w\"], d[\"b\"], my_image)\n",
    "\n",
    "plt.imshow(image)\n",
    "print(\"y = \" + str(np.squeeze(my_predicted_image)) + \", seu modelo preveu que a imagem é um \\\"\" + classes[int(np.squeeze(my_predicted_image)),].decode(\"utf-8\")+\"\\\"\" )"
   ]
  },
  {
   "cell_type": "markdown",
   "metadata": {},
   "source": [
    "<font color='blue'>\n",
    "**O que lembrar desta tarefa:**\n",
    "1. Preprocessar o conjunto de dados é importante.\n",
    "2. Você implentou cada função separadamente: inicialização(), propagação(), otimização() e construiu um modelo(). \n",
    "3. Ajustando a taxa de aprendizado (que é um exemplo de hyperparametro) pode afetar o desempenho do algoritmo significativamente. "
   ]
  },
  {
   "cell_type": "markdown",
   "metadata": {},
   "source": [
    "Finalmente, gostaria de convidá-lo a tentar algumas coisas diferentes neste Notebook. Tenha certeza de ter salvado o seu trabalho e crie uma cópia para poder fazer as alterações sugeridas abaixo: \n",
    "    - Modifique a taxa de aprendizado e o número de interações. \n",
    "    - Tente métodos diferentes para inicializar os parâmetros e compare os resultados. \n",
    "    - Teste outros preprocessamentos (centralizar os dados, ou dividir cada linha pelo desvio padrão)"
   ]
  },
  {
   "cell_type": "markdown",
   "metadata": {},
   "source": [
    "Bibliografia:\n",
    "- http://www.wildml.com/2015/09/implementing-a-neural-network-from-scratch/\n",
    "- https://stats.stackexchange.com/questions/211436/why-do-we-normalize-images-by-subtracting-the-datasets-image-mean-and-not-the-c"
   ]
  },
  {
   "cell_type": "code",
   "execution_count": null,
   "metadata": {},
   "outputs": [],
   "source": []
  }
 ],
 "metadata": {
  "coursera": {
   "course_slug": "neural-networks-deep-learning",
   "graded_item_id": "XaIWT",
   "launcher_item_id": "zAgPl"
  },
  "kernelspec": {
   "display_name": "Python 3",
   "language": "python",
   "name": "python3"
  },
  "language_info": {
   "codemirror_mode": {
    "name": "ipython",
    "version": 3
   },
   "file_extension": ".py",
   "mimetype": "text/x-python",
   "name": "python",
   "nbconvert_exporter": "python",
   "pygments_lexer": "ipython3",
   "version": "3.6.5"
  }
 },
 "nbformat": 4,
 "nbformat_minor": 2
}
